{
 "cells": [
  {
   "cell_type": "code",
   "execution_count": 38,
   "metadata": {},
   "outputs": [],
   "source": [
    "import pandas as pd\n",
    "import numpy as np\n",
    "import matplotlib.pyplot as plt\n",
    "import seaborn as sn\n",
    "import warnings\n",
    "warnings.filterwarnings('ignore')\n",
    "data = pd.read_csv('PaviaU_features.txt') \n",
    "label = pd.read_csv('PaviaU-label.txt') "
   ]
  },
  {
   "cell_type": "code",
   "execution_count": 2,
   "metadata": {},
   "outputs": [
    {
     "data": {
      "text/html": [
       "<div>\n",
       "<style scoped>\n",
       "    .dataframe tbody tr th:only-of-type {\n",
       "        vertical-align: middle;\n",
       "    }\n",
       "\n",
       "    .dataframe tbody tr th {\n",
       "        vertical-align: top;\n",
       "    }\n",
       "\n",
       "    .dataframe thead th {\n",
       "        text-align: right;\n",
       "    }\n",
       "</style>\n",
       "<table border=\"1\" class=\"dataframe\">\n",
       "  <thead>\n",
       "    <tr style=\"text-align: right;\">\n",
       "      <th></th>\n",
       "      <th>1467</th>\n",
       "      <th>1298</th>\n",
       "      <th>1298.1</th>\n",
       "      <th>1418</th>\n",
       "      <th>1408</th>\n",
       "      <th>1379</th>\n",
       "      <th>1350</th>\n",
       "      <th>1357</th>\n",
       "      <th>1424</th>\n",
       "      <th>1439</th>\n",
       "      <th>...</th>\n",
       "      <th>1388.1</th>\n",
       "      <th>1387</th>\n",
       "      <th>1377</th>\n",
       "      <th>1399</th>\n",
       "      <th>1400</th>\n",
       "      <th>1370</th>\n",
       "      <th>1344</th>\n",
       "      <th>1346</th>\n",
       "      <th>1327</th>\n",
       "      <th>1315</th>\n",
       "    </tr>\n",
       "  </thead>\n",
       "  <tbody>\n",
       "    <tr>\n",
       "      <th>0</th>\n",
       "      <td>1203</td>\n",
       "      <td>1295</td>\n",
       "      <td>1302</td>\n",
       "      <td>1330</td>\n",
       "      <td>1391</td>\n",
       "      <td>1416</td>\n",
       "      <td>1390</td>\n",
       "      <td>1335</td>\n",
       "      <td>1271</td>\n",
       "      <td>1313</td>\n",
       "      <td>...</td>\n",
       "      <td>1111</td>\n",
       "      <td>1094</td>\n",
       "      <td>1084</td>\n",
       "      <td>1124</td>\n",
       "      <td>1144</td>\n",
       "      <td>1147</td>\n",
       "      <td>1165</td>\n",
       "      <td>1167</td>\n",
       "      <td>1144</td>\n",
       "      <td>1126</td>\n",
       "    </tr>\n",
       "    <tr>\n",
       "      <th>1</th>\n",
       "      <td>1341</td>\n",
       "      <td>1346</td>\n",
       "      <td>1272</td>\n",
       "      <td>1281</td>\n",
       "      <td>1168</td>\n",
       "      <td>1073</td>\n",
       "      <td>1127</td>\n",
       "      <td>1170</td>\n",
       "      <td>1187</td>\n",
       "      <td>1185</td>\n",
       "      <td>...</td>\n",
       "      <td>1146</td>\n",
       "      <td>1154</td>\n",
       "      <td>1158</td>\n",
       "      <td>1174</td>\n",
       "      <td>1162</td>\n",
       "      <td>1150</td>\n",
       "      <td>1140</td>\n",
       "      <td>1128</td>\n",
       "      <td>1123</td>\n",
       "      <td>1101</td>\n",
       "    </tr>\n",
       "    <tr>\n",
       "      <th>2</th>\n",
       "      <td>761</td>\n",
       "      <td>454</td>\n",
       "      <td>413</td>\n",
       "      <td>414</td>\n",
       "      <td>467</td>\n",
       "      <td>427</td>\n",
       "      <td>342</td>\n",
       "      <td>346</td>\n",
       "      <td>414</td>\n",
       "      <td>494</td>\n",
       "      <td>...</td>\n",
       "      <td>1725</td>\n",
       "      <td>1743</td>\n",
       "      <td>1694</td>\n",
       "      <td>1666</td>\n",
       "      <td>1690</td>\n",
       "      <td>1695</td>\n",
       "      <td>1685</td>\n",
       "      <td>1701</td>\n",
       "      <td>1734</td>\n",
       "      <td>1756</td>\n",
       "    </tr>\n",
       "    <tr>\n",
       "      <th>3</th>\n",
       "      <td>787</td>\n",
       "      <td>392</td>\n",
       "      <td>242</td>\n",
       "      <td>534</td>\n",
       "      <td>581</td>\n",
       "      <td>431</td>\n",
       "      <td>410</td>\n",
       "      <td>402</td>\n",
       "      <td>372</td>\n",
       "      <td>393</td>\n",
       "      <td>...</td>\n",
       "      <td>1440</td>\n",
       "      <td>1465</td>\n",
       "      <td>1453</td>\n",
       "      <td>1451</td>\n",
       "      <td>1505</td>\n",
       "      <td>1543</td>\n",
       "      <td>1516</td>\n",
       "      <td>1527</td>\n",
       "      <td>1548</td>\n",
       "      <td>1511</td>\n",
       "    </tr>\n",
       "    <tr>\n",
       "      <th>4</th>\n",
       "      <td>205</td>\n",
       "      <td>591</td>\n",
       "      <td>519</td>\n",
       "      <td>421</td>\n",
       "      <td>513</td>\n",
       "      <td>503</td>\n",
       "      <td>416</td>\n",
       "      <td>361</td>\n",
       "      <td>382</td>\n",
       "      <td>355</td>\n",
       "      <td>...</td>\n",
       "      <td>1847</td>\n",
       "      <td>1884</td>\n",
       "      <td>1863</td>\n",
       "      <td>1828</td>\n",
       "      <td>1819</td>\n",
       "      <td>1819</td>\n",
       "      <td>1818</td>\n",
       "      <td>1859</td>\n",
       "      <td>1957</td>\n",
       "      <td>2004</td>\n",
       "    </tr>\n",
       "  </tbody>\n",
       "</table>\n",
       "<p>5 rows × 103 columns</p>\n",
       "</div>"
      ],
      "text/plain": [
       "   1467  1298  1298.1  1418  1408  1379  1350  1357  1424  1439  ...   1388.1  \\\n",
       "0  1203  1295    1302  1330  1391  1416  1390  1335  1271  1313  ...     1111   \n",
       "1  1341  1346    1272  1281  1168  1073  1127  1170  1187  1185  ...     1146   \n",
       "2   761   454     413   414   467   427   342   346   414   494  ...     1725   \n",
       "3   787   392     242   534   581   431   410   402   372   393  ...     1440   \n",
       "4   205   591     519   421   513   503   416   361   382   355  ...     1847   \n",
       "\n",
       "   1387  1377  1399  1400  1370  1344  1346  1327  1315  \n",
       "0  1094  1084  1124  1144  1147  1165  1167  1144  1126  \n",
       "1  1154  1158  1174  1162  1150  1140  1128  1123  1101  \n",
       "2  1743  1694  1666  1690  1695  1685  1701  1734  1756  \n",
       "3  1465  1453  1451  1505  1543  1516  1527  1548  1511  \n",
       "4  1884  1863  1828  1819  1819  1818  1859  1957  2004  \n",
       "\n",
       "[5 rows x 103 columns]"
      ]
     },
     "execution_count": 2,
     "metadata": {},
     "output_type": "execute_result"
    }
   ],
   "source": [
    "data.head()"
   ]
  },
  {
   "cell_type": "code",
   "execution_count": 7,
   "metadata": {},
   "outputs": [
    {
     "data": {
      "text/plain": [
       "array([1, 2, 3, 4, 9, 8, 5, 7, 6])"
      ]
     },
     "execution_count": 7,
     "metadata": {},
     "output_type": "execute_result"
    }
   ],
   "source": [
    "label['1'].unique()"
   ]
  },
  {
   "cell_type": "code",
   "execution_count": 39,
   "metadata": {},
   "outputs": [],
   "source": [
    "from sklearn.model_selection import train_test_split  \n",
    "X_train, X_test, y_train, y_test = train_test_split(data, label, test_size = 0.60)  "
   ]
  },
  {
   "cell_type": "code",
   "execution_count": 9,
   "metadata": {},
   "outputs": [
    {
     "data": {
      "text/plain": [
       "((34220, 103), (8555, 103))"
      ]
     },
     "execution_count": 9,
     "metadata": {},
     "output_type": "execute_result"
    }
   ],
   "source": [
    "X_train.shape,X_test.shape"
   ]
  },
  {
   "cell_type": "code",
   "execution_count": 4,
   "metadata": {},
   "outputs": [],
   "source": [
    "from sklearn.preprocessing import StandardScaler  \n",
    "scaler = StandardScaler()  \n",
    " "
   ]
  },
  {
   "cell_type": "code",
   "execution_count": 40,
   "metadata": {},
   "outputs": [
    {
     "data": {
      "text/plain": [
       "MLPClassifier(activation='relu', alpha=0.0001, batch_size='auto', beta_1=0.9,\n",
       "       beta_2=0.999, early_stopping=False, epsilon=1e-08,\n",
       "       hidden_layer_sizes=120, learning_rate='constant',\n",
       "       learning_rate_init=0.0036, max_iter=100, momentum=0.9,\n",
       "       n_iter_no_change=10, nesterovs_momentum=True, power_t=0.5,\n",
       "       random_state=None, shuffle=True, solver='adam', tol=0.0001,\n",
       "       validation_fraction=0.1, verbose=False, warm_start=False)"
      ]
     },
     "execution_count": 40,
     "metadata": {},
     "output_type": "execute_result"
    }
   ],
   "source": [
    "from sklearn.neural_network import MLPClassifier  \n",
    "mlp = MLPClassifier(hidden_layer_sizes=(120), max_iter=100,learning_rate_init=0.0036)  \n",
    "mlp.fit(X_train, y_train.values.ravel())  "
   ]
  },
  {
   "cell_type": "code",
   "execution_count": 41,
   "metadata": {},
   "outputs": [
    {
     "data": {
      "text/plain": [
       "{'activation': 'relu',\n",
       " 'alpha': 0.0001,\n",
       " 'batch_size': 'auto',\n",
       " 'beta_1': 0.9,\n",
       " 'beta_2': 0.999,\n",
       " 'early_stopping': False,\n",
       " 'epsilon': 1e-08,\n",
       " 'hidden_layer_sizes': 120,\n",
       " 'learning_rate': 'constant',\n",
       " 'learning_rate_init': 0.0036,\n",
       " 'max_iter': 100,\n",
       " 'momentum': 0.9,\n",
       " 'n_iter_no_change': 10,\n",
       " 'nesterovs_momentum': True,\n",
       " 'power_t': 0.5,\n",
       " 'random_state': None,\n",
       " 'shuffle': True,\n",
       " 'solver': 'adam',\n",
       " 'tol': 0.0001,\n",
       " 'validation_fraction': 0.1,\n",
       " 'verbose': False,\n",
       " 'warm_start': False}"
      ]
     },
     "execution_count": 41,
     "metadata": {},
     "output_type": "execute_result"
    }
   ],
   "source": [
    "predictions = mlp.predict(X_test) \n",
    "mlp.get_params(deep=False)"
   ]
  },
  {
   "cell_type": "code",
   "execution_count": 42,
   "metadata": {},
   "outputs": [
    {
     "name": "stdout",
     "output_type": "stream",
     "text": [
      "[[3192    9   23    0   18   10    4  655    0]\n",
      " [  46 9881   23  117    0 1129    0   24    0]\n",
      " [  31    5  238    0    0    5    0  996    0]\n",
      " [   0  133    0 1663    1   25    0    3    1]\n",
      " [  10    0    0    0  772    0    1    1    0]\n",
      " [  27  779    1    7    2 1929    0  306    0]\n",
      " [ 724    0    1    0    0    1    0   51    0]\n",
      " [  66   13   87    0    0   15    0 2060    0]\n",
      " [  61    2    0    0    0    6    0   12  499]]\n",
      "              precision    recall  f1-score   support\n",
      "\n",
      "           1       0.77      0.82      0.79      3911\n",
      "           2       0.91      0.88      0.90     11220\n",
      "           3       0.64      0.19      0.29      1275\n",
      "           4       0.93      0.91      0.92      1826\n",
      "           5       0.97      0.98      0.98       784\n",
      "           6       0.62      0.63      0.63      3051\n",
      "           7       0.00      0.00      0.00       777\n",
      "           8       0.50      0.92      0.65      2241\n",
      "           9       1.00      0.86      0.92       580\n",
      "\n",
      "   micro avg       0.79      0.79      0.79     25665\n",
      "   macro avg       0.70      0.69      0.67     25665\n",
      "weighted avg       0.78      0.79      0.77     25665\n",
      "\n"
     ]
    }
   ],
   "source": [
    "from sklearn.metrics import classification_report, confusion_matrix  \n",
    "from sklearn.metrics import precision_recall_fscore_support as score\n",
    "print(confusion_matrix(y_test,predictions))  \n",
    "print(classification_report(y_test,predictions))  "
   ]
  },
  {
   "cell_type": "markdown",
   "metadata": {},
   "source": [
    "if you do want to extract the MLP weights and biases after training your model, you use its public attributes coefs_ and intercepts_.\n",
    "coefs_ is a list of weight matrices, where weight matrix at index i represents the weights between layer i and layer i+1.\n",
    "intercepts_ is a list of bias vectors, where the vector at index i represents the bias values added to layer i+1."
   ]
  },
  {
   "cell_type": "code",
   "execution_count": 43,
   "metadata": {},
   "outputs": [
    {
     "name": "stdout",
     "output_type": "stream",
     "text": [
      "Precision : 0.704537408979542\n",
      "Recall    : 0.6878602787829584\n",
      "F-score   : 0.6749429465771455\n",
      "Support   : None\n"
     ]
    }
   ],
   "source": [
    "precision,recall,fscore,support=score(y_test,predictions,average='macro')\n",
    "print('Precision : {}'.format(precision))\n",
    "print('Recall    : {}'.format(recall))\n",
    "print('F-score   : {}'.format(fscore))\n",
    "print('Support   : {}'.format(support))"
   ]
  },
  {
   "cell_type": "code",
   "execution_count": 31,
   "metadata": {},
   "outputs": [
    {
     "data": {
      "text/plain": [
       "4"
      ]
     },
     "execution_count": 31,
     "metadata": {},
     "output_type": "execute_result"
    }
   ],
   "source": [
    "len(mlp.coefs_)"
   ]
  },
  {
   "cell_type": "code",
   "execution_count": 32,
   "metadata": {},
   "outputs": [
    {
     "data": {
      "text/plain": [
       "103"
      ]
     },
     "execution_count": 32,
     "metadata": {},
     "output_type": "execute_result"
    }
   ],
   "source": [
    "len(mlp.coefs_[0])"
   ]
  },
  {
   "cell_type": "code",
   "execution_count": 34,
   "metadata": {},
   "outputs": [
    {
     "data": {
      "text/plain": [
       "4"
      ]
     },
     "execution_count": 34,
     "metadata": {},
     "output_type": "execute_result"
    }
   ],
   "source": [
    "len(mlp.intercepts_)"
   ]
  },
  {
   "cell_type": "code",
   "execution_count": 35,
   "metadata": {},
   "outputs": [
    {
     "data": {
      "text/plain": [
       "10"
      ]
     },
     "execution_count": 35,
     "metadata": {},
     "output_type": "execute_result"
    }
   ],
   "source": [
    "len(mlp.intercepts_[0])"
   ]
  },
  {
   "cell_type": "code",
   "execution_count": null,
   "metadata": {
    "scrolled": false
   },
   "outputs": [
    {
     "name": "stdout",
     "output_type": "stream",
     "text": [
      "fscore : 0.7627890395745026 ,hidden_layer_l : 2 ,hidden_layer_w : 10 ,learning_rate : 0.0001\n",
      "current fscore ---------- 0.7627890395745026\n",
      "fscore : 0.9198061451154546 ,hidden_layer_l : 2 ,hidden_layer_w : 10 ,learning_rate : 0.0006000000000000001\n",
      "current fscore ---------- 0.9198061451154546\n",
      "fscore : 0.9323209339769374 ,hidden_layer_l : 2 ,hidden_layer_w : 10 ,learning_rate : 0.0011\n",
      "current fscore ---------- 0.9323209339769374\n",
      "fscore : 0.9325292346016649 ,hidden_layer_l : 2 ,hidden_layer_w : 10 ,learning_rate : 0.0016\n",
      "current fscore ---------- 0.9325292346016649\n",
      "fscore : 0.9371561457536876 ,hidden_layer_l : 2 ,hidden_layer_w : 10 ,learning_rate : 0.0021\n",
      "current fscore ---------- 0.9371561457536876\n",
      "fscore : 0.9349892645531036 ,hidden_layer_l : 2 ,hidden_layer_w : 10 ,learning_rate : 0.0026\n",
      "fscore : 0.9283653731619689 ,hidden_layer_l : 2 ,hidden_layer_w : 10 ,learning_rate : 0.0031\n",
      "fscore : 0.9230102471189805 ,hidden_layer_l : 2 ,hidden_layer_w : 10 ,learning_rate : 0.0036\n",
      "fscore : 0.9339410034615303 ,hidden_layer_l : 2 ,hidden_layer_w : 10 ,learning_rate : 0.0041\n",
      "fscore : 0.9245085516574402 ,hidden_layer_l : 2 ,hidden_layer_w : 10 ,learning_rate : 0.004600000000000001\n",
      "fscore : 0.9215744784029999 ,hidden_layer_l : 2 ,hidden_layer_w : 10 ,learning_rate : 0.0051\n",
      "fscore : 0.9344467114856562 ,hidden_layer_l : 2 ,hidden_layer_w : 10 ,learning_rate : 0.0056\n",
      "fscore : 0.9122591494712871 ,hidden_layer_l : 2 ,hidden_layer_w : 10 ,learning_rate : 0.0061\n",
      "fscore : 0.9373897918625433 ,hidden_layer_l : 2 ,hidden_layer_w : 10 ,learning_rate : 0.006600000000000001\n",
      "current fscore ---------- 0.9373897918625433\n",
      "fscore : 0.928254711151878 ,hidden_layer_l : 2 ,hidden_layer_w : 10 ,learning_rate : 0.0071\n",
      "fscore : 0.932303771089426 ,hidden_layer_l : 2 ,hidden_layer_w : 10 ,learning_rate : 0.0076\n",
      "fscore : 0.9272553243102367 ,hidden_layer_l : 2 ,hidden_layer_w : 10 ,learning_rate : 0.0081\n",
      "fscore : 0.9199325589081069 ,hidden_layer_l : 2 ,hidden_layer_w : 10 ,learning_rate : 0.0086\n",
      "fscore : 0.9306076192692032 ,hidden_layer_l : 2 ,hidden_layer_w : 10 ,learning_rate : 0.0091\n",
      "fscore : 0.9325151089148558 ,hidden_layer_l : 2 ,hidden_layer_w : 10 ,learning_rate : 0.0096\n",
      "fscore : 0.9040971321182116 ,hidden_layer_l : 2 ,hidden_layer_w : 30 ,learning_rate : 0.0001\n",
      "fscore : 0.9407003302531373 ,hidden_layer_l : 2 ,hidden_layer_w : 30 ,learning_rate : 0.0006000000000000001\n",
      "current fscore ---------- 0.9407003302531373\n",
      "fscore : 0.9381955288740781 ,hidden_layer_l : 2 ,hidden_layer_w : 30 ,learning_rate : 0.0011\n",
      "fscore : 0.9330740342556127 ,hidden_layer_l : 2 ,hidden_layer_w : 30 ,learning_rate : 0.0016\n",
      "fscore : 0.9523246236476 ,hidden_layer_l : 2 ,hidden_layer_w : 30 ,learning_rate : 0.0021\n",
      "current fscore ---------- 0.9523246236476\n",
      "fscore : 0.9437657181565012 ,hidden_layer_l : 2 ,hidden_layer_w : 30 ,learning_rate : 0.0026\n",
      "fscore : 0.9520503888542545 ,hidden_layer_l : 2 ,hidden_layer_w : 30 ,learning_rate : 0.0031\n",
      "fscore : 0.9473217007363923 ,hidden_layer_l : 2 ,hidden_layer_w : 30 ,learning_rate : 0.0036\n",
      "fscore : 0.9418508253142787 ,hidden_layer_l : 2 ,hidden_layer_w : 30 ,learning_rate : 0.0041\n",
      "fscore : 0.9483997324033963 ,hidden_layer_l : 2 ,hidden_layer_w : 30 ,learning_rate : 0.004600000000000001\n",
      "fscore : 0.9442110084437844 ,hidden_layer_l : 2 ,hidden_layer_w : 30 ,learning_rate : 0.0051\n",
      "fscore : 0.9137955834929178 ,hidden_layer_l : 2 ,hidden_layer_w : 30 ,learning_rate : 0.0056\n",
      "fscore : 0.9149300204665661 ,hidden_layer_l : 2 ,hidden_layer_w : 30 ,learning_rate : 0.0061\n",
      "fscore : 0.9270533908581137 ,hidden_layer_l : 2 ,hidden_layer_w : 30 ,learning_rate : 0.006600000000000001\n",
      "fscore : 0.9470235450047808 ,hidden_layer_l : 2 ,hidden_layer_w : 30 ,learning_rate : 0.0071\n",
      "fscore : 0.9427467691478193 ,hidden_layer_l : 2 ,hidden_layer_w : 30 ,learning_rate : 0.0076\n",
      "fscore : 0.9450658665157144 ,hidden_layer_l : 2 ,hidden_layer_w : 30 ,learning_rate : 0.0081\n",
      "fscore : 0.9465843414256558 ,hidden_layer_l : 2 ,hidden_layer_w : 30 ,learning_rate : 0.0086\n",
      "fscore : 0.9250188166511624 ,hidden_layer_l : 2 ,hidden_layer_w : 30 ,learning_rate : 0.0091\n",
      "fscore : 0.9431815557354977 ,hidden_layer_l : 2 ,hidden_layer_w : 30 ,learning_rate : 0.0096\n",
      "fscore : 0.919773372311059 ,hidden_layer_l : 2 ,hidden_layer_w : 50 ,learning_rate : 0.0001\n",
      "fscore : 0.9449216759382245 ,hidden_layer_l : 2 ,hidden_layer_w : 50 ,learning_rate : 0.0006000000000000001\n",
      "fscore : 0.9513473351403476 ,hidden_layer_l : 2 ,hidden_layer_w : 50 ,learning_rate : 0.0011\n",
      "fscore : 0.9499771564548757 ,hidden_layer_l : 2 ,hidden_layer_w : 50 ,learning_rate : 0.0016\n",
      "fscore : 0.9546265619082221 ,hidden_layer_l : 2 ,hidden_layer_w : 50 ,learning_rate : 0.0021\n",
      "current fscore ---------- 0.9546265619082221\n",
      "fscore : 0.9466500905822804 ,hidden_layer_l : 2 ,hidden_layer_w : 50 ,learning_rate : 0.0026\n",
      "fscore : 0.9458576630765965 ,hidden_layer_l : 2 ,hidden_layer_w : 50 ,learning_rate : 0.0031\n",
      "fscore : 0.9392362974087318 ,hidden_layer_l : 2 ,hidden_layer_w : 50 ,learning_rate : 0.0036\n",
      "fscore : 0.9454451988691619 ,hidden_layer_l : 2 ,hidden_layer_w : 50 ,learning_rate : 0.0041\n",
      "fscore : 0.9480605585061659 ,hidden_layer_l : 2 ,hidden_layer_w : 50 ,learning_rate : 0.004600000000000001\n",
      "fscore : 0.9476393220873215 ,hidden_layer_l : 2 ,hidden_layer_w : 50 ,learning_rate : 0.0051\n",
      "fscore : 0.9442193225519162 ,hidden_layer_l : 2 ,hidden_layer_w : 50 ,learning_rate : 0.0056\n",
      "fscore : 0.9293259378048846 ,hidden_layer_l : 2 ,hidden_layer_w : 50 ,learning_rate : 0.0061\n",
      "fscore : 0.9296198212834386 ,hidden_layer_l : 2 ,hidden_layer_w : 50 ,learning_rate : 0.006600000000000001\n",
      "fscore : 0.9294426642343859 ,hidden_layer_l : 2 ,hidden_layer_w : 50 ,learning_rate : 0.0071\n",
      "fscore : 0.9484528044372378 ,hidden_layer_l : 2 ,hidden_layer_w : 50 ,learning_rate : 0.0076\n",
      "fscore : 0.9432224780748771 ,hidden_layer_l : 2 ,hidden_layer_w : 50 ,learning_rate : 0.0081\n",
      "fscore : 0.933979692788728 ,hidden_layer_l : 2 ,hidden_layer_w : 50 ,learning_rate : 0.0086\n",
      "fscore : 0.9123379409225263 ,hidden_layer_l : 2 ,hidden_layer_w : 50 ,learning_rate : 0.0091\n",
      "fscore : 0.9294304181004374 ,hidden_layer_l : 2 ,hidden_layer_w : 50 ,learning_rate : 0.0096\n",
      "fscore : 0.9242815161290429 ,hidden_layer_l : 2 ,hidden_layer_w : 70 ,learning_rate : 0.0001\n",
      "fscore : 0.9500654006482764 ,hidden_layer_l : 2 ,hidden_layer_w : 70 ,learning_rate : 0.0006000000000000001\n",
      "fscore : 0.9498999063741758 ,hidden_layer_l : 2 ,hidden_layer_w : 70 ,learning_rate : 0.0011\n",
      "fscore : 0.9512873833810984 ,hidden_layer_l : 2 ,hidden_layer_w : 70 ,learning_rate : 0.0016\n",
      "fscore : 0.9546431815658105 ,hidden_layer_l : 2 ,hidden_layer_w : 70 ,learning_rate : 0.0021\n",
      "current fscore ---------- 0.9546431815658105\n",
      "fscore : 0.9521054891385733 ,hidden_layer_l : 2 ,hidden_layer_w : 70 ,learning_rate : 0.0026\n",
      "fscore : 0.9536069991440935 ,hidden_layer_l : 2 ,hidden_layer_w : 70 ,learning_rate : 0.0031\n",
      "fscore : 0.9439391136340972 ,hidden_layer_l : 2 ,hidden_layer_w : 70 ,learning_rate : 0.0036\n",
      "fscore : 0.9310849754192674 ,hidden_layer_l : 2 ,hidden_layer_w : 70 ,learning_rate : 0.0041\n",
      "fscore : 0.9458661804842219 ,hidden_layer_l : 2 ,hidden_layer_w : 70 ,learning_rate : 0.004600000000000001\n",
      "fscore : 0.943152245361699 ,hidden_layer_l : 2 ,hidden_layer_w : 70 ,learning_rate : 0.0051\n",
      "fscore : 0.947274053191108 ,hidden_layer_l : 2 ,hidden_layer_w : 70 ,learning_rate : 0.0056\n",
      "fscore : 0.9340168870605768 ,hidden_layer_l : 2 ,hidden_layer_w : 70 ,learning_rate : 0.0061\n",
      "fscore : 0.9128451566144236 ,hidden_layer_l : 2 ,hidden_layer_w : 70 ,learning_rate : 0.006600000000000001\n",
      "fscore : 0.948697278214043 ,hidden_layer_l : 2 ,hidden_layer_w : 70 ,learning_rate : 0.0071\n",
      "fscore : 0.944820116831237 ,hidden_layer_l : 2 ,hidden_layer_w : 70 ,learning_rate : 0.0076\n",
      "fscore : 0.9224471774767067 ,hidden_layer_l : 2 ,hidden_layer_w : 70 ,learning_rate : 0.0081\n",
      "fscore : 0.9462805423889387 ,hidden_layer_l : 2 ,hidden_layer_w : 70 ,learning_rate : 0.0086\n",
      "fscore : 0.9427410442094559 ,hidden_layer_l : 2 ,hidden_layer_w : 70 ,learning_rate : 0.0091\n",
      "fscore : 0.9418623626510486 ,hidden_layer_l : 2 ,hidden_layer_w : 70 ,learning_rate : 0.0096\n",
      "fscore : 0.9302199346270478 ,hidden_layer_l : 2 ,hidden_layer_w : 90 ,learning_rate : 0.0001\n",
      "fscore : 0.9481694214543038 ,hidden_layer_l : 2 ,hidden_layer_w : 90 ,learning_rate : 0.0006000000000000001\n"
     ]
    },
    {
     "name": "stdout",
     "output_type": "stream",
     "text": [
      "fscore : 0.9473641876575384 ,hidden_layer_l : 2 ,hidden_layer_w : 90 ,learning_rate : 0.0011\n",
      "fscore : 0.9411346090222441 ,hidden_layer_l : 2 ,hidden_layer_w : 90 ,learning_rate : 0.0016\n",
      "fscore : 0.9527549124350815 ,hidden_layer_l : 2 ,hidden_layer_w : 90 ,learning_rate : 0.0021\n",
      "fscore : 0.9545503791786698 ,hidden_layer_l : 2 ,hidden_layer_w : 90 ,learning_rate : 0.0026\n",
      "fscore : 0.9495888415313076 ,hidden_layer_l : 2 ,hidden_layer_w : 90 ,learning_rate : 0.0031\n",
      "fscore : 0.9443369830114625 ,hidden_layer_l : 2 ,hidden_layer_w : 90 ,learning_rate : 0.0036\n",
      "fscore : 0.9523700866924842 ,hidden_layer_l : 2 ,hidden_layer_w : 90 ,learning_rate : 0.0041\n",
      "fscore : 0.9423019545787292 ,hidden_layer_l : 2 ,hidden_layer_w : 90 ,learning_rate : 0.004600000000000001\n",
      "fscore : 0.9254629254430173 ,hidden_layer_l : 2 ,hidden_layer_w : 90 ,learning_rate : 0.0051\n",
      "fscore : 0.9467040235186361 ,hidden_layer_l : 2 ,hidden_layer_w : 90 ,learning_rate : 0.0056\n",
      "fscore : 0.9490931450003175 ,hidden_layer_l : 2 ,hidden_layer_w : 90 ,learning_rate : 0.0061\n",
      "fscore : 0.9379857418319505 ,hidden_layer_l : 2 ,hidden_layer_w : 90 ,learning_rate : 0.006600000000000001\n",
      "fscore : 0.9401612772273873 ,hidden_layer_l : 2 ,hidden_layer_w : 90 ,learning_rate : 0.0071\n",
      "fscore : 0.9398600386705471 ,hidden_layer_l : 2 ,hidden_layer_w : 90 ,learning_rate : 0.0076\n",
      "fscore : 0.9435867875940898 ,hidden_layer_l : 2 ,hidden_layer_w : 90 ,learning_rate : 0.0081\n",
      "fscore : 0.939373876125025 ,hidden_layer_l : 2 ,hidden_layer_w : 90 ,learning_rate : 0.0086\n",
      "fscore : 0.9406715627021338 ,hidden_layer_l : 2 ,hidden_layer_w : 90 ,learning_rate : 0.0091\n",
      "fscore : 0.944928997390165 ,hidden_layer_l : 2 ,hidden_layer_w : 90 ,learning_rate : 0.0096\n",
      "fscore : 0.9304299470983097 ,hidden_layer_l : 2 ,hidden_layer_w : 110 ,learning_rate : 0.0001\n",
      "fscore : 0.9527149800579928 ,hidden_layer_l : 2 ,hidden_layer_w : 110 ,learning_rate : 0.0006000000000000001\n",
      "fscore : 0.952505769291349 ,hidden_layer_l : 2 ,hidden_layer_w : 110 ,learning_rate : 0.0011\n",
      "fscore : 0.9387463114475152 ,hidden_layer_l : 2 ,hidden_layer_w : 110 ,learning_rate : 0.0016\n",
      "fscore : 0.9445573709917393 ,hidden_layer_l : 2 ,hidden_layer_w : 110 ,learning_rate : 0.0021\n",
      "fscore : 0.9444181868463901 ,hidden_layer_l : 2 ,hidden_layer_w : 110 ,learning_rate : 0.0026\n",
      "fscore : 0.9380151357915404 ,hidden_layer_l : 2 ,hidden_layer_w : 110 ,learning_rate : 0.0031\n",
      "fscore : 0.9422844115819208 ,hidden_layer_l : 2 ,hidden_layer_w : 110 ,learning_rate : 0.0036\n",
      "fscore : 0.9317424078819087 ,hidden_layer_l : 2 ,hidden_layer_w : 110 ,learning_rate : 0.0041\n",
      "fscore : 0.9248534828208543 ,hidden_layer_l : 2 ,hidden_layer_w : 110 ,learning_rate : 0.004600000000000001\n",
      "fscore : 0.9353097587341446 ,hidden_layer_l : 2 ,hidden_layer_w : 110 ,learning_rate : 0.0051\n",
      "fscore : 0.9489411623506285 ,hidden_layer_l : 2 ,hidden_layer_w : 110 ,learning_rate : 0.0056\n",
      "fscore : 0.94322135571918 ,hidden_layer_l : 2 ,hidden_layer_w : 110 ,learning_rate : 0.0061\n",
      "fscore : 0.9467939925925121 ,hidden_layer_l : 2 ,hidden_layer_w : 110 ,learning_rate : 0.006600000000000001\n",
      "fscore : 0.9462994024883492 ,hidden_layer_l : 2 ,hidden_layer_w : 110 ,learning_rate : 0.0071\n",
      "fscore : 0.9393544966068775 ,hidden_layer_l : 2 ,hidden_layer_w : 110 ,learning_rate : 0.0076\n",
      "fscore : 0.9325739063627737 ,hidden_layer_l : 2 ,hidden_layer_w : 110 ,learning_rate : 0.0081\n",
      "fscore : 0.943053570805174 ,hidden_layer_l : 2 ,hidden_layer_w : 110 ,learning_rate : 0.0086\n",
      "fscore : 0.9476729882356317 ,hidden_layer_l : 2 ,hidden_layer_w : 110 ,learning_rate : 0.0091\n",
      "fscore : 0.9422886987807685 ,hidden_layer_l : 2 ,hidden_layer_w : 110 ,learning_rate : 0.0096\n",
      "fscore : 0.9328068742204567 ,hidden_layer_l : 2 ,hidden_layer_w : 130 ,learning_rate : 0.0001\n",
      "fscore : 0.956046005482825 ,hidden_layer_l : 2 ,hidden_layer_w : 130 ,learning_rate : 0.0006000000000000001\n",
      "current fscore ---------- 0.956046005482825\n",
      "fscore : 0.9534710513400735 ,hidden_layer_l : 2 ,hidden_layer_w : 130 ,learning_rate : 0.0011\n",
      "fscore : 0.9399116607826475 ,hidden_layer_l : 2 ,hidden_layer_w : 130 ,learning_rate : 0.0016\n",
      "fscore : 0.9528662216212643 ,hidden_layer_l : 2 ,hidden_layer_w : 130 ,learning_rate : 0.0021\n",
      "fscore : 0.945584390756632 ,hidden_layer_l : 2 ,hidden_layer_w : 130 ,learning_rate : 0.0026\n",
      "fscore : 0.9530620472530411 ,hidden_layer_l : 2 ,hidden_layer_w : 130 ,learning_rate : 0.0031\n",
      "fscore : 0.9423631317424843 ,hidden_layer_l : 2 ,hidden_layer_w : 130 ,learning_rate : 0.0036\n",
      "fscore : 0.9484182035246995 ,hidden_layer_l : 2 ,hidden_layer_w : 130 ,learning_rate : 0.0041\n",
      "fscore : 0.9443509736910701 ,hidden_layer_l : 2 ,hidden_layer_w : 130 ,learning_rate : 0.004600000000000001\n",
      "fscore : 0.9466028329615759 ,hidden_layer_l : 2 ,hidden_layer_w : 130 ,learning_rate : 0.0051\n",
      "fscore : 0.9458675850049124 ,hidden_layer_l : 2 ,hidden_layer_w : 130 ,learning_rate : 0.0056\n",
      "fscore : 0.9410341016706507 ,hidden_layer_l : 2 ,hidden_layer_w : 130 ,learning_rate : 0.0061\n",
      "fscore : 0.9512908971583944 ,hidden_layer_l : 2 ,hidden_layer_w : 130 ,learning_rate : 0.006600000000000001\n",
      "fscore : 0.9484920487425043 ,hidden_layer_l : 2 ,hidden_layer_w : 130 ,learning_rate : 0.0071\n",
      "fscore : 0.9347538990527142 ,hidden_layer_l : 2 ,hidden_layer_w : 130 ,learning_rate : 0.0076\n",
      "fscore : 0.9393124472350496 ,hidden_layer_l : 2 ,hidden_layer_w : 130 ,learning_rate : 0.0081\n",
      "fscore : 0.9304020758133026 ,hidden_layer_l : 2 ,hidden_layer_w : 130 ,learning_rate : 0.0086\n",
      "fscore : 0.9288484768350229 ,hidden_layer_l : 2 ,hidden_layer_w : 130 ,learning_rate : 0.0091\n",
      "fscore : 0.9444651320435121 ,hidden_layer_l : 2 ,hidden_layer_w : 130 ,learning_rate : 0.0096\n",
      "fscore : 0.9398555817984856 ,hidden_layer_l : 2 ,hidden_layer_w : 150 ,learning_rate : 0.0001\n",
      "fscore : 0.9560514350690175 ,hidden_layer_l : 2 ,hidden_layer_w : 150 ,learning_rate : 0.0006000000000000001\n",
      "current fscore ---------- 0.9560514350690175\n",
      "fscore : 0.9499578263790348 ,hidden_layer_l : 2 ,hidden_layer_w : 150 ,learning_rate : 0.0011\n",
      "fscore : 0.9528627993488397 ,hidden_layer_l : 2 ,hidden_layer_w : 150 ,learning_rate : 0.0016\n",
      "fscore : 0.9543990540475532 ,hidden_layer_l : 2 ,hidden_layer_w : 150 ,learning_rate : 0.0021\n",
      "fscore : 0.9522425285590206 ,hidden_layer_l : 2 ,hidden_layer_w : 150 ,learning_rate : 0.0026\n",
      "fscore : 0.9395478712837202 ,hidden_layer_l : 2 ,hidden_layer_w : 150 ,learning_rate : 0.0031\n",
      "fscore : 0.9423142031582638 ,hidden_layer_l : 2 ,hidden_layer_w : 150 ,learning_rate : 0.0036\n",
      "fscore : 0.9458457849880852 ,hidden_layer_l : 2 ,hidden_layer_w : 150 ,learning_rate : 0.0041\n",
      "fscore : 0.921896347981169 ,hidden_layer_l : 2 ,hidden_layer_w : 150 ,learning_rate : 0.004600000000000001\n",
      "fscore : 0.9376246405522699 ,hidden_layer_l : 2 ,hidden_layer_w : 150 ,learning_rate : 0.0051\n",
      "fscore : 0.9497524843135261 ,hidden_layer_l : 2 ,hidden_layer_w : 150 ,learning_rate : 0.0056\n",
      "fscore : 0.9354350624061138 ,hidden_layer_l : 2 ,hidden_layer_w : 150 ,learning_rate : 0.0061\n",
      "fscore : 0.9486334522116233 ,hidden_layer_l : 2 ,hidden_layer_w : 150 ,learning_rate : 0.006600000000000001\n",
      "fscore : 0.922047903637078 ,hidden_layer_l : 2 ,hidden_layer_w : 150 ,learning_rate : 0.0071\n",
      "fscore : 0.9435254610573774 ,hidden_layer_l : 2 ,hidden_layer_w : 150 ,learning_rate : 0.0076\n",
      "fscore : 0.9436430971315547 ,hidden_layer_l : 2 ,hidden_layer_w : 150 ,learning_rate : 0.0081\n",
      "fscore : 0.9184801028513002 ,hidden_layer_l : 2 ,hidden_layer_w : 150 ,learning_rate : 0.0086\n",
      "fscore : 0.9307549011253767 ,hidden_layer_l : 2 ,hidden_layer_w : 150 ,learning_rate : 0.0091\n",
      "fscore : 0.9376492982864776 ,hidden_layer_l : 2 ,hidden_layer_w : 150 ,learning_rate : 0.0096\n",
      "fscore : 0.9384268400482763 ,hidden_layer_l : 2 ,hidden_layer_w : 170 ,learning_rate : 0.0001\n",
      "fscore : 0.9502759885844692 ,hidden_layer_l : 2 ,hidden_layer_w : 170 ,learning_rate : 0.0006000000000000001\n",
      "fscore : 0.9565831250907139 ,hidden_layer_l : 2 ,hidden_layer_w : 170 ,learning_rate : 0.0011\n",
      "current fscore ---------- 0.9565831250907139\n",
      "fscore : 0.9538998392777989 ,hidden_layer_l : 2 ,hidden_layer_w : 170 ,learning_rate : 0.0016\n",
      "fscore : 0.9505348981102029 ,hidden_layer_l : 2 ,hidden_layer_w : 170 ,learning_rate : 0.0021\n",
      "fscore : 0.9237163350305825 ,hidden_layer_l : 2 ,hidden_layer_w : 170 ,learning_rate : 0.0026\n",
      "fscore : 0.9406259711320533 ,hidden_layer_l : 2 ,hidden_layer_w : 170 ,learning_rate : 0.0031\n"
     ]
    },
    {
     "name": "stdout",
     "output_type": "stream",
     "text": [
      "fscore : 0.9350689276067486 ,hidden_layer_l : 2 ,hidden_layer_w : 170 ,learning_rate : 0.0036\n",
      "fscore : 0.9427791542980057 ,hidden_layer_l : 2 ,hidden_layer_w : 170 ,learning_rate : 0.0041\n",
      "fscore : 0.9446252021983739 ,hidden_layer_l : 2 ,hidden_layer_w : 170 ,learning_rate : 0.004600000000000001\n",
      "fscore : 0.948993959813063 ,hidden_layer_l : 2 ,hidden_layer_w : 170 ,learning_rate : 0.0051\n",
      "fscore : 0.9411005632008218 ,hidden_layer_l : 2 ,hidden_layer_w : 170 ,learning_rate : 0.0056\n",
      "fscore : 0.9478418647809226 ,hidden_layer_l : 2 ,hidden_layer_w : 170 ,learning_rate : 0.0061\n",
      "fscore : 0.9425860067656847 ,hidden_layer_l : 2 ,hidden_layer_w : 170 ,learning_rate : 0.006600000000000001\n",
      "fscore : 0.9231229374795872 ,hidden_layer_l : 2 ,hidden_layer_w : 170 ,learning_rate : 0.0071\n",
      "fscore : 0.9316837832525522 ,hidden_layer_l : 2 ,hidden_layer_w : 170 ,learning_rate : 0.0076\n",
      "fscore : 0.9321617388580622 ,hidden_layer_l : 2 ,hidden_layer_w : 170 ,learning_rate : 0.0081\n",
      "fscore : 0.9388685816335958 ,hidden_layer_l : 2 ,hidden_layer_w : 170 ,learning_rate : 0.0086\n",
      "fscore : 0.942561331820801 ,hidden_layer_l : 2 ,hidden_layer_w : 170 ,learning_rate : 0.0091\n",
      "fscore : 0.9455716619376803 ,hidden_layer_l : 2 ,hidden_layer_w : 170 ,learning_rate : 0.0096\n",
      "fscore : 0.9402428488507435 ,hidden_layer_l : 2 ,hidden_layer_w : 190 ,learning_rate : 0.0001\n",
      "fscore : 0.9521753995330342 ,hidden_layer_l : 2 ,hidden_layer_w : 190 ,learning_rate : 0.0006000000000000001\n",
      "fscore : 0.9539315279581868 ,hidden_layer_l : 2 ,hidden_layer_w : 190 ,learning_rate : 0.0011\n",
      "fscore : 0.956020319648097 ,hidden_layer_l : 2 ,hidden_layer_w : 190 ,learning_rate : 0.0016\n",
      "fscore : 0.9503802559461955 ,hidden_layer_l : 2 ,hidden_layer_w : 190 ,learning_rate : 0.0021\n",
      "fscore : 0.9470396689290178 ,hidden_layer_l : 2 ,hidden_layer_w : 190 ,learning_rate : 0.0026\n",
      "fscore : 0.9308083076710622 ,hidden_layer_l : 2 ,hidden_layer_w : 190 ,learning_rate : 0.0031\n",
      "fscore : 0.9497029654798115 ,hidden_layer_l : 2 ,hidden_layer_w : 190 ,learning_rate : 0.0036\n",
      "fscore : 0.9482682124904992 ,hidden_layer_l : 2 ,hidden_layer_w : 190 ,learning_rate : 0.0041\n",
      "fscore : 0.9494035869302176 ,hidden_layer_l : 2 ,hidden_layer_w : 190 ,learning_rate : 0.004600000000000001\n",
      "fscore : 0.9455353858423613 ,hidden_layer_l : 2 ,hidden_layer_w : 190 ,learning_rate : 0.0051\n",
      "fscore : 0.9392718316569277 ,hidden_layer_l : 2 ,hidden_layer_w : 190 ,learning_rate : 0.0056\n",
      "fscore : 0.9487909734811137 ,hidden_layer_l : 2 ,hidden_layer_w : 190 ,learning_rate : 0.0061\n",
      "fscore : 0.9452043355211099 ,hidden_layer_l : 2 ,hidden_layer_w : 190 ,learning_rate : 0.006600000000000001\n",
      "fscore : 0.943123225983779 ,hidden_layer_l : 2 ,hidden_layer_w : 190 ,learning_rate : 0.0071\n",
      "fscore : 0.9467495388584948 ,hidden_layer_l : 2 ,hidden_layer_w : 190 ,learning_rate : 0.0076\n",
      "fscore : 0.9270831150022292 ,hidden_layer_l : 2 ,hidden_layer_w : 190 ,learning_rate : 0.0081\n",
      "fscore : 0.9472303347462814 ,hidden_layer_l : 2 ,hidden_layer_w : 190 ,learning_rate : 0.0086\n",
      "fscore : 0.9284693334659138 ,hidden_layer_l : 2 ,hidden_layer_w : 190 ,learning_rate : 0.0091\n",
      "fscore : 0.9430593558622777 ,hidden_layer_l : 2 ,hidden_layer_w : 190 ,learning_rate : 0.0096\n",
      "fscore : 0.8112916781114239 ,hidden_layer_l : 3 ,hidden_layer_w : 10 ,learning_rate : 0.0001\n",
      "fscore : 0.9302669707738708 ,hidden_layer_l : 3 ,hidden_layer_w : 10 ,learning_rate : 0.0006000000000000001\n",
      "fscore : 0.9308733574526384 ,hidden_layer_l : 3 ,hidden_layer_w : 10 ,learning_rate : 0.0011\n",
      "fscore : 0.9378640133787246 ,hidden_layer_l : 3 ,hidden_layer_w : 10 ,learning_rate : 0.0016\n",
      "fscore : 0.9361567802138817 ,hidden_layer_l : 3 ,hidden_layer_w : 10 ,learning_rate : 0.0021\n",
      "fscore : 0.9339050090364209 ,hidden_layer_l : 3 ,hidden_layer_w : 10 ,learning_rate : 0.0026\n",
      "fscore : 0.9385493973767903 ,hidden_layer_l : 3 ,hidden_layer_w : 10 ,learning_rate : 0.0031\n",
      "fscore : 0.9362426099603139 ,hidden_layer_l : 3 ,hidden_layer_w : 10 ,learning_rate : 0.0036\n",
      "fscore : 0.9339065116837566 ,hidden_layer_l : 3 ,hidden_layer_w : 10 ,learning_rate : 0.0041\n",
      "fscore : 0.922325380567294 ,hidden_layer_l : 3 ,hidden_layer_w : 10 ,learning_rate : 0.004600000000000001\n",
      "fscore : 0.9426067251030238 ,hidden_layer_l : 3 ,hidden_layer_w : 10 ,learning_rate : 0.0051\n",
      "fscore : 0.9294532330736567 ,hidden_layer_l : 3 ,hidden_layer_w : 10 ,learning_rate : 0.0056\n",
      "fscore : 0.9241711051330657 ,hidden_layer_l : 3 ,hidden_layer_w : 10 ,learning_rate : 0.0061\n",
      "fscore : 0.9297232926347994 ,hidden_layer_l : 3 ,hidden_layer_w : 10 ,learning_rate : 0.006600000000000001\n",
      "fscore : 0.9386414616498396 ,hidden_layer_l : 3 ,hidden_layer_w : 10 ,learning_rate : 0.0071\n",
      "fscore : 0.9216918640566382 ,hidden_layer_l : 3 ,hidden_layer_w : 10 ,learning_rate : 0.0076\n",
      "fscore : 0.9328695815689743 ,hidden_layer_l : 3 ,hidden_layer_w : 10 ,learning_rate : 0.0081\n",
      "fscore : 0.9169421314264297 ,hidden_layer_l : 3 ,hidden_layer_w : 10 ,learning_rate : 0.0086\n",
      "fscore : 0.9215138198545542 ,hidden_layer_l : 3 ,hidden_layer_w : 10 ,learning_rate : 0.0091\n",
      "fscore : 0.9246808243981334 ,hidden_layer_l : 3 ,hidden_layer_w : 10 ,learning_rate : 0.0096\n",
      "fscore : 0.9187498414747335 ,hidden_layer_l : 3 ,hidden_layer_w : 30 ,learning_rate : 0.0001\n",
      "fscore : 0.9451907400766307 ,hidden_layer_l : 3 ,hidden_layer_w : 30 ,learning_rate : 0.0006000000000000001\n",
      "fscore : 0.9470438191917623 ,hidden_layer_l : 3 ,hidden_layer_w : 30 ,learning_rate : 0.0011\n",
      "fscore : 0.9443385340002085 ,hidden_layer_l : 3 ,hidden_layer_w : 30 ,learning_rate : 0.0016\n",
      "fscore : 0.9461691307900543 ,hidden_layer_l : 3 ,hidden_layer_w : 30 ,learning_rate : 0.0021\n",
      "fscore : 0.9434700813399272 ,hidden_layer_l : 3 ,hidden_layer_w : 30 ,learning_rate : 0.0026\n",
      "fscore : 0.948572938930639 ,hidden_layer_l : 3 ,hidden_layer_w : 30 ,learning_rate : 0.0031\n",
      "fscore : 0.9478597199947174 ,hidden_layer_l : 3 ,hidden_layer_w : 30 ,learning_rate : 0.0036\n",
      "fscore : 0.9463057110409289 ,hidden_layer_l : 3 ,hidden_layer_w : 30 ,learning_rate : 0.0041\n",
      "fscore : 0.9387651233359993 ,hidden_layer_l : 3 ,hidden_layer_w : 30 ,learning_rate : 0.004600000000000001\n",
      "fscore : 0.9353014130391648 ,hidden_layer_l : 3 ,hidden_layer_w : 30 ,learning_rate : 0.0051\n",
      "fscore : 0.9232695380894653 ,hidden_layer_l : 3 ,hidden_layer_w : 30 ,learning_rate : 0.0056\n",
      "fscore : 0.9493280888885044 ,hidden_layer_l : 3 ,hidden_layer_w : 30 ,learning_rate : 0.0061\n",
      "fscore : 0.923125099559835 ,hidden_layer_l : 3 ,hidden_layer_w : 30 ,learning_rate : 0.006600000000000001\n",
      "fscore : 0.9404862390055231 ,hidden_layer_l : 3 ,hidden_layer_w : 30 ,learning_rate : 0.0071\n",
      "fscore : 0.944214938194381 ,hidden_layer_l : 3 ,hidden_layer_w : 30 ,learning_rate : 0.0076\n",
      "fscore : 0.9032728611451826 ,hidden_layer_l : 3 ,hidden_layer_w : 30 ,learning_rate : 0.0081\n",
      "fscore : 0.9334277073084315 ,hidden_layer_l : 3 ,hidden_layer_w : 30 ,learning_rate : 0.0086\n",
      "fscore : 0.9454755541112898 ,hidden_layer_l : 3 ,hidden_layer_w : 30 ,learning_rate : 0.0091\n",
      "fscore : 0.9386858721324257 ,hidden_layer_l : 3 ,hidden_layer_w : 30 ,learning_rate : 0.0096\n",
      "fscore : 0.9265609024603714 ,hidden_layer_l : 3 ,hidden_layer_w : 50 ,learning_rate : 0.0001\n",
      "fscore : 0.9433941844838125 ,hidden_layer_l : 3 ,hidden_layer_w : 50 ,learning_rate : 0.0006000000000000001\n",
      "fscore : 0.9578798340484824 ,hidden_layer_l : 3 ,hidden_layer_w : 50 ,learning_rate : 0.0011\n",
      "current fscore ---------- 0.9578798340484824\n",
      "fscore : 0.9466260220540139 ,hidden_layer_l : 3 ,hidden_layer_w : 50 ,learning_rate : 0.0016\n",
      "fscore : 0.9420052058834452 ,hidden_layer_l : 3 ,hidden_layer_w : 50 ,learning_rate : 0.0021\n",
      "fscore : 0.9362537373940801 ,hidden_layer_l : 3 ,hidden_layer_w : 50 ,learning_rate : 0.0026\n",
      "fscore : 0.9352709459157956 ,hidden_layer_l : 3 ,hidden_layer_w : 50 ,learning_rate : 0.0031\n",
      "fscore : 0.9448861742665748 ,hidden_layer_l : 3 ,hidden_layer_w : 50 ,learning_rate : 0.0036\n",
      "fscore : 0.9466306629133643 ,hidden_layer_l : 3 ,hidden_layer_w : 50 ,learning_rate : 0.0041\n",
      "fscore : 0.9501521609510445 ,hidden_layer_l : 3 ,hidden_layer_w : 50 ,learning_rate : 0.004600000000000001\n",
      "fscore : 0.942331925668114 ,hidden_layer_l : 3 ,hidden_layer_w : 50 ,learning_rate : 0.0051\n",
      "fscore : 0.946229703140828 ,hidden_layer_l : 3 ,hidden_layer_w : 50 ,learning_rate : 0.0056\n",
      "fscore : 0.9485513501562224 ,hidden_layer_l : 3 ,hidden_layer_w : 50 ,learning_rate : 0.0061\n"
     ]
    },
    {
     "name": "stdout",
     "output_type": "stream",
     "text": [
      "fscore : 0.9392570142707177 ,hidden_layer_l : 3 ,hidden_layer_w : 50 ,learning_rate : 0.006600000000000001\n",
      "fscore : 0.9254156581478709 ,hidden_layer_l : 3 ,hidden_layer_w : 50 ,learning_rate : 0.0071\n",
      "fscore : 0.9435615158670705 ,hidden_layer_l : 3 ,hidden_layer_w : 50 ,learning_rate : 0.0076\n",
      "fscore : 0.9281845737728242 ,hidden_layer_l : 3 ,hidden_layer_w : 50 ,learning_rate : 0.0081\n",
      "fscore : 0.9419588308392454 ,hidden_layer_l : 3 ,hidden_layer_w : 50 ,learning_rate : 0.0086\n",
      "fscore : 0.9453873588008904 ,hidden_layer_l : 3 ,hidden_layer_w : 50 ,learning_rate : 0.0091\n",
      "fscore : 0.9278499677307158 ,hidden_layer_l : 3 ,hidden_layer_w : 50 ,learning_rate : 0.0096\n",
      "fscore : 0.9367791712660656 ,hidden_layer_l : 3 ,hidden_layer_w : 70 ,learning_rate : 0.0001\n",
      "fscore : 0.9495356248820942 ,hidden_layer_l : 3 ,hidden_layer_w : 70 ,learning_rate : 0.0006000000000000001\n",
      "fscore : 0.9436818415390543 ,hidden_layer_l : 3 ,hidden_layer_w : 70 ,learning_rate : 0.0011\n",
      "fscore : 0.9489713239668048 ,hidden_layer_l : 3 ,hidden_layer_w : 70 ,learning_rate : 0.0016\n",
      "fscore : 0.9458555144000209 ,hidden_layer_l : 3 ,hidden_layer_w : 70 ,learning_rate : 0.0021\n",
      "fscore : 0.9490453967400264 ,hidden_layer_l : 3 ,hidden_layer_w : 70 ,learning_rate : 0.0026\n",
      "fscore : 0.9508530763330003 ,hidden_layer_l : 3 ,hidden_layer_w : 70 ,learning_rate : 0.0031\n",
      "fscore : 0.9588747498434732 ,hidden_layer_l : 3 ,hidden_layer_w : 70 ,learning_rate : 0.0036\n",
      "current fscore ---------- 0.9588747498434732\n",
      "fscore : 0.9407331646588426 ,hidden_layer_l : 3 ,hidden_layer_w : 70 ,learning_rate : 0.0041\n",
      "fscore : 0.9438620587064954 ,hidden_layer_l : 3 ,hidden_layer_w : 70 ,learning_rate : 0.004600000000000001\n",
      "fscore : 0.93562239593669 ,hidden_layer_l : 3 ,hidden_layer_w : 70 ,learning_rate : 0.0051\n",
      "fscore : 0.9400637247223824 ,hidden_layer_l : 3 ,hidden_layer_w : 70 ,learning_rate : 0.0056\n",
      "fscore : 0.9182941931525355 ,hidden_layer_l : 3 ,hidden_layer_w : 70 ,learning_rate : 0.0061\n",
      "fscore : 0.9200796587162032 ,hidden_layer_l : 3 ,hidden_layer_w : 70 ,learning_rate : 0.006600000000000001\n",
      "fscore : 0.9533487509724936 ,hidden_layer_l : 3 ,hidden_layer_w : 70 ,learning_rate : 0.0071\n",
      "fscore : 0.9396670833206104 ,hidden_layer_l : 3 ,hidden_layer_w : 70 ,learning_rate : 0.0076\n",
      "fscore : 0.9160869116892584 ,hidden_layer_l : 3 ,hidden_layer_w : 70 ,learning_rate : 0.0081\n",
      "fscore : 0.949919660199854 ,hidden_layer_l : 3 ,hidden_layer_w : 70 ,learning_rate : 0.0086\n",
      "fscore : 0.9398368531444498 ,hidden_layer_l : 3 ,hidden_layer_w : 70 ,learning_rate : 0.0091\n",
      "fscore : 0.9307683596583929 ,hidden_layer_l : 3 ,hidden_layer_w : 70 ,learning_rate : 0.0096\n",
      "fscore : 0.9368198553856355 ,hidden_layer_l : 3 ,hidden_layer_w : 90 ,learning_rate : 0.0001\n",
      "fscore : 0.9364915092161196 ,hidden_layer_l : 3 ,hidden_layer_w : 90 ,learning_rate : 0.0006000000000000001\n",
      "fscore : 0.9497841932631894 ,hidden_layer_l : 3 ,hidden_layer_w : 90 ,learning_rate : 0.0011\n",
      "fscore : 0.947404740024992 ,hidden_layer_l : 3 ,hidden_layer_w : 90 ,learning_rate : 0.0016\n",
      "fscore : 0.9458321300210094 ,hidden_layer_l : 3 ,hidden_layer_w : 90 ,learning_rate : 0.0021\n",
      "fscore : 0.9471034612669524 ,hidden_layer_l : 3 ,hidden_layer_w : 90 ,learning_rate : 0.0026\n",
      "fscore : 0.953402994668456 ,hidden_layer_l : 3 ,hidden_layer_w : 90 ,learning_rate : 0.0031\n",
      "fscore : 0.9398643617237394 ,hidden_layer_l : 3 ,hidden_layer_w : 90 ,learning_rate : 0.0036\n",
      "fscore : 0.9291795517331569 ,hidden_layer_l : 3 ,hidden_layer_w : 90 ,learning_rate : 0.0041\n",
      "fscore : 0.9323669401976059 ,hidden_layer_l : 3 ,hidden_layer_w : 90 ,learning_rate : 0.004600000000000001\n",
      "fscore : 0.941385462135394 ,hidden_layer_l : 3 ,hidden_layer_w : 90 ,learning_rate : 0.0051\n",
      "fscore : 0.9451285711649938 ,hidden_layer_l : 3 ,hidden_layer_w : 90 ,learning_rate : 0.0056\n",
      "fscore : 0.9380879289045873 ,hidden_layer_l : 3 ,hidden_layer_w : 90 ,learning_rate : 0.0061\n",
      "fscore : 0.943584083854767 ,hidden_layer_l : 3 ,hidden_layer_w : 90 ,learning_rate : 0.006600000000000001\n",
      "fscore : 0.9188427938607424 ,hidden_layer_l : 3 ,hidden_layer_w : 90 ,learning_rate : 0.0071\n",
      "fscore : 0.9338429968240199 ,hidden_layer_l : 3 ,hidden_layer_w : 90 ,learning_rate : 0.0076\n",
      "fscore : 0.9339117616342657 ,hidden_layer_l : 3 ,hidden_layer_w : 90 ,learning_rate : 0.0081\n",
      "fscore : 0.9274222950271649 ,hidden_layer_l : 3 ,hidden_layer_w : 90 ,learning_rate : 0.0086\n",
      "fscore : 0.9083944527483234 ,hidden_layer_l : 3 ,hidden_layer_w : 90 ,learning_rate : 0.0091\n",
      "fscore : 0.9470191704813785 ,hidden_layer_l : 3 ,hidden_layer_w : 90 ,learning_rate : 0.0096\n",
      "fscore : 0.9388509668252488 ,hidden_layer_l : 3 ,hidden_layer_w : 110 ,learning_rate : 0.0001\n",
      "fscore : 0.9503200602563763 ,hidden_layer_l : 3 ,hidden_layer_w : 110 ,learning_rate : 0.0006000000000000001\n",
      "fscore : 0.9543719896982003 ,hidden_layer_l : 3 ,hidden_layer_w : 110 ,learning_rate : 0.0011\n",
      "fscore : 0.9528900952345486 ,hidden_layer_l : 3 ,hidden_layer_w : 110 ,learning_rate : 0.0016\n",
      "fscore : 0.9464173031420778 ,hidden_layer_l : 3 ,hidden_layer_w : 110 ,learning_rate : 0.0021\n",
      "fscore : 0.9407508476178117 ,hidden_layer_l : 3 ,hidden_layer_w : 110 ,learning_rate : 0.0026\n",
      "fscore : 0.9357774138207401 ,hidden_layer_l : 3 ,hidden_layer_w : 110 ,learning_rate : 0.0031\n",
      "fscore : 0.9472769276215272 ,hidden_layer_l : 3 ,hidden_layer_w : 110 ,learning_rate : 0.0036\n",
      "fscore : 0.9433109279237747 ,hidden_layer_l : 3 ,hidden_layer_w : 110 ,learning_rate : 0.0041\n",
      "fscore : 0.9460086126576839 ,hidden_layer_l : 3 ,hidden_layer_w : 110 ,learning_rate : 0.004600000000000001\n",
      "fscore : 0.93929397551511 ,hidden_layer_l : 3 ,hidden_layer_w : 110 ,learning_rate : 0.0051\n",
      "fscore : 0.9360868920283776 ,hidden_layer_l : 3 ,hidden_layer_w : 110 ,learning_rate : 0.0056\n",
      "fscore : 0.9397947841664721 ,hidden_layer_l : 3 ,hidden_layer_w : 110 ,learning_rate : 0.0061\n",
      "fscore : 0.943532135687792 ,hidden_layer_l : 3 ,hidden_layer_w : 110 ,learning_rate : 0.006600000000000001\n",
      "fscore : 0.9467646879506694 ,hidden_layer_l : 3 ,hidden_layer_w : 110 ,learning_rate : 0.0071\n",
      "fscore : 0.9440904300023232 ,hidden_layer_l : 3 ,hidden_layer_w : 110 ,learning_rate : 0.0076\n",
      "fscore : 0.9268610033275855 ,hidden_layer_l : 3 ,hidden_layer_w : 110 ,learning_rate : 0.0081\n",
      "fscore : 0.9443780310754598 ,hidden_layer_l : 3 ,hidden_layer_w : 110 ,learning_rate : 0.0086\n",
      "fscore : 0.9518963348857241 ,hidden_layer_l : 3 ,hidden_layer_w : 110 ,learning_rate : 0.0091\n",
      "fscore : 0.9281945324518736 ,hidden_layer_l : 3 ,hidden_layer_w : 110 ,learning_rate : 0.0096\n",
      "fscore : 0.944582792715567 ,hidden_layer_l : 3 ,hidden_layer_w : 130 ,learning_rate : 0.0001\n",
      "fscore : 0.9492759616319889 ,hidden_layer_l : 3 ,hidden_layer_w : 130 ,learning_rate : 0.0006000000000000001\n",
      "fscore : 0.9515763793575671 ,hidden_layer_l : 3 ,hidden_layer_w : 130 ,learning_rate : 0.0011\n",
      "fscore : 0.9547268836970773 ,hidden_layer_l : 3 ,hidden_layer_w : 130 ,learning_rate : 0.0016\n",
      "fscore : 0.9504213078476602 ,hidden_layer_l : 3 ,hidden_layer_w : 130 ,learning_rate : 0.0021\n",
      "fscore : 0.9518819834378546 ,hidden_layer_l : 3 ,hidden_layer_w : 130 ,learning_rate : 0.0026\n",
      "fscore : 0.9470480162806195 ,hidden_layer_l : 3 ,hidden_layer_w : 130 ,learning_rate : 0.0031\n",
      "fscore : 0.9523512074643724 ,hidden_layer_l : 3 ,hidden_layer_w : 130 ,learning_rate : 0.0036\n",
      "fscore : 0.9424421326281274 ,hidden_layer_l : 3 ,hidden_layer_w : 130 ,learning_rate : 0.0041\n",
      "fscore : 0.9468915319714628 ,hidden_layer_l : 3 ,hidden_layer_w : 130 ,learning_rate : 0.004600000000000001\n",
      "fscore : 0.930250311719864 ,hidden_layer_l : 3 ,hidden_layer_w : 130 ,learning_rate : 0.0051\n",
      "fscore : 0.9383165697404287 ,hidden_layer_l : 3 ,hidden_layer_w : 130 ,learning_rate : 0.0056\n",
      "fscore : 0.940290029166902 ,hidden_layer_l : 3 ,hidden_layer_w : 130 ,learning_rate : 0.0061\n",
      "fscore : 0.9488713736195362 ,hidden_layer_l : 3 ,hidden_layer_w : 130 ,learning_rate : 0.006600000000000001\n",
      "fscore : 0.931627051002446 ,hidden_layer_l : 3 ,hidden_layer_w : 130 ,learning_rate : 0.0071\n",
      "fscore : 0.9443734412505853 ,hidden_layer_l : 3 ,hidden_layer_w : 130 ,learning_rate : 0.0076\n",
      "fscore : 0.9284895414266919 ,hidden_layer_l : 3 ,hidden_layer_w : 130 ,learning_rate : 0.0081\n",
      "fscore : 0.9437854258826724 ,hidden_layer_l : 3 ,hidden_layer_w : 130 ,learning_rate : 0.0086\n",
      "fscore : 0.8797794406979477 ,hidden_layer_l : 3 ,hidden_layer_w : 130 ,learning_rate : 0.0091\n"
     ]
    },
    {
     "name": "stdout",
     "output_type": "stream",
     "text": [
      "fscore : 0.9264553040621775 ,hidden_layer_l : 3 ,hidden_layer_w : 130 ,learning_rate : 0.0096\n",
      "fscore : 0.941283168729469 ,hidden_layer_l : 3 ,hidden_layer_w : 150 ,learning_rate : 0.0001\n",
      "fscore : 0.9508186362054786 ,hidden_layer_l : 3 ,hidden_layer_w : 150 ,learning_rate : 0.0006000000000000001\n",
      "fscore : 0.9459418263616668 ,hidden_layer_l : 3 ,hidden_layer_w : 150 ,learning_rate : 0.0011\n",
      "fscore : 0.95242568264498 ,hidden_layer_l : 3 ,hidden_layer_w : 150 ,learning_rate : 0.0016\n",
      "fscore : 0.9535516389738318 ,hidden_layer_l : 3 ,hidden_layer_w : 150 ,learning_rate : 0.0021\n",
      "fscore : 0.9528905441015971 ,hidden_layer_l : 3 ,hidden_layer_w : 150 ,learning_rate : 0.0026\n",
      "fscore : 0.9478115847868547 ,hidden_layer_l : 3 ,hidden_layer_w : 150 ,learning_rate : 0.0031\n",
      "fscore : 0.941776869954355 ,hidden_layer_l : 3 ,hidden_layer_w : 150 ,learning_rate : 0.0036\n",
      "fscore : 0.9340120941792058 ,hidden_layer_l : 3 ,hidden_layer_w : 150 ,learning_rate : 0.0041\n",
      "fscore : 0.9314887300112397 ,hidden_layer_l : 3 ,hidden_layer_w : 150 ,learning_rate : 0.004600000000000001\n",
      "fscore : 0.9518202868019076 ,hidden_layer_l : 3 ,hidden_layer_w : 150 ,learning_rate : 0.0051\n",
      "fscore : 0.938149533446659 ,hidden_layer_l : 3 ,hidden_layer_w : 150 ,learning_rate : 0.0056\n",
      "fscore : 0.890573647749524 ,hidden_layer_l : 3 ,hidden_layer_w : 150 ,learning_rate : 0.0061\n",
      "fscore : 0.9362381968937366 ,hidden_layer_l : 3 ,hidden_layer_w : 150 ,learning_rate : 0.006600000000000001\n",
      "fscore : 0.9496324597159259 ,hidden_layer_l : 3 ,hidden_layer_w : 150 ,learning_rate : 0.0071\n",
      "fscore : 0.9405341915226716 ,hidden_layer_l : 3 ,hidden_layer_w : 150 ,learning_rate : 0.0076\n",
      "fscore : 0.943102507385223 ,hidden_layer_l : 3 ,hidden_layer_w : 150 ,learning_rate : 0.0081\n",
      "fscore : 0.9367762655544293 ,hidden_layer_l : 3 ,hidden_layer_w : 150 ,learning_rate : 0.0086\n",
      "fscore : 0.9411634875009047 ,hidden_layer_l : 3 ,hidden_layer_w : 150 ,learning_rate : 0.0091\n",
      "fscore : 0.9348050740600338 ,hidden_layer_l : 3 ,hidden_layer_w : 150 ,learning_rate : 0.0096\n",
      "fscore : 0.9468320510786304 ,hidden_layer_l : 3 ,hidden_layer_w : 170 ,learning_rate : 0.0001\n",
      "fscore : 0.9447612602148519 ,hidden_layer_l : 3 ,hidden_layer_w : 170 ,learning_rate : 0.0006000000000000001\n",
      "fscore : 0.9479081881896873 ,hidden_layer_l : 3 ,hidden_layer_w : 170 ,learning_rate : 0.0011\n",
      "fscore : 0.9536552797848423 ,hidden_layer_l : 3 ,hidden_layer_w : 170 ,learning_rate : 0.0016\n",
      "fscore : 0.9425940478251889 ,hidden_layer_l : 3 ,hidden_layer_w : 170 ,learning_rate : 0.0021\n",
      "fscore : 0.9436905669535326 ,hidden_layer_l : 3 ,hidden_layer_w : 170 ,learning_rate : 0.0026\n",
      "fscore : 0.936787287075072 ,hidden_layer_l : 3 ,hidden_layer_w : 170 ,learning_rate : 0.0031\n",
      "fscore : 0.9405435296201886 ,hidden_layer_l : 3 ,hidden_layer_w : 170 ,learning_rate : 0.0036\n",
      "fscore : 0.9482717467771943 ,hidden_layer_l : 3 ,hidden_layer_w : 170 ,learning_rate : 0.0041\n",
      "fscore : 0.9458805375475967 ,hidden_layer_l : 3 ,hidden_layer_w : 170 ,learning_rate : 0.004600000000000001\n",
      "fscore : 0.9427069000543766 ,hidden_layer_l : 3 ,hidden_layer_w : 170 ,learning_rate : 0.0051\n",
      "fscore : 0.9348316370589286 ,hidden_layer_l : 3 ,hidden_layer_w : 170 ,learning_rate : 0.0056\n",
      "fscore : 0.9300157454244845 ,hidden_layer_l : 3 ,hidden_layer_w : 170 ,learning_rate : 0.0061\n",
      "fscore : 0.9411806038666247 ,hidden_layer_l : 3 ,hidden_layer_w : 170 ,learning_rate : 0.006600000000000001\n",
      "fscore : 0.9453603864370801 ,hidden_layer_l : 3 ,hidden_layer_w : 170 ,learning_rate : 0.0071\n",
      "fscore : 0.9317104610395385 ,hidden_layer_l : 3 ,hidden_layer_w : 170 ,learning_rate : 0.0076\n",
      "fscore : 0.9422114073868799 ,hidden_layer_l : 3 ,hidden_layer_w : 170 ,learning_rate : 0.0081\n",
      "fscore : 0.9381246694317917 ,hidden_layer_l : 3 ,hidden_layer_w : 170 ,learning_rate : 0.0086\n",
      "fscore : 0.9404038003844225 ,hidden_layer_l : 3 ,hidden_layer_w : 170 ,learning_rate : 0.0091\n",
      "fscore : 0.9280125437114002 ,hidden_layer_l : 3 ,hidden_layer_w : 170 ,learning_rate : 0.0096\n",
      "fscore : 0.9485239235274222 ,hidden_layer_l : 3 ,hidden_layer_w : 190 ,learning_rate : 0.0001\n",
      "fscore : 0.9465288719105439 ,hidden_layer_l : 3 ,hidden_layer_w : 190 ,learning_rate : 0.0006000000000000001\n",
      "fscore : 0.9548846678975234 ,hidden_layer_l : 3 ,hidden_layer_w : 190 ,learning_rate : 0.0011\n",
      "fscore : 0.9436734408347398 ,hidden_layer_l : 3 ,hidden_layer_w : 190 ,learning_rate : 0.0016\n",
      "fscore : 0.9445885548240948 ,hidden_layer_l : 3 ,hidden_layer_w : 190 ,learning_rate : 0.0021\n",
      "fscore : 0.9425558836160914 ,hidden_layer_l : 3 ,hidden_layer_w : 190 ,learning_rate : 0.0026\n",
      "fscore : 0.9351097697237465 ,hidden_layer_l : 3 ,hidden_layer_w : 190 ,learning_rate : 0.0031\n",
      "fscore : 0.9462658010445628 ,hidden_layer_l : 3 ,hidden_layer_w : 190 ,learning_rate : 0.0036\n",
      "fscore : 0.9299746098706431 ,hidden_layer_l : 3 ,hidden_layer_w : 190 ,learning_rate : 0.0041\n",
      "fscore : 0.9500481774780786 ,hidden_layer_l : 3 ,hidden_layer_w : 190 ,learning_rate : 0.004600000000000001\n",
      "fscore : 0.9454329907423333 ,hidden_layer_l : 3 ,hidden_layer_w : 190 ,learning_rate : 0.0051\n",
      "fscore : 0.9305501162111861 ,hidden_layer_l : 3 ,hidden_layer_w : 190 ,learning_rate : 0.0056\n",
      "fscore : 0.9491291494568964 ,hidden_layer_l : 3 ,hidden_layer_w : 190 ,learning_rate : 0.0061\n",
      "fscore : 0.9468222402064634 ,hidden_layer_l : 3 ,hidden_layer_w : 190 ,learning_rate : 0.006600000000000001\n",
      "fscore : 0.9382976298542111 ,hidden_layer_l : 3 ,hidden_layer_w : 190 ,learning_rate : 0.0071\n",
      "fscore : 0.9413191769108877 ,hidden_layer_l : 3 ,hidden_layer_w : 190 ,learning_rate : 0.0076\n",
      "fscore : 0.9461472813901602 ,hidden_layer_l : 3 ,hidden_layer_w : 190 ,learning_rate : 0.0081\n",
      "fscore : 0.9327894041023969 ,hidden_layer_l : 3 ,hidden_layer_w : 190 ,learning_rate : 0.0086\n",
      "fscore : 0.9385875214510355 ,hidden_layer_l : 3 ,hidden_layer_w : 190 ,learning_rate : 0.0091\n",
      "fscore : 0.9179425620181692 ,hidden_layer_l : 3 ,hidden_layer_w : 190 ,learning_rate : 0.0096\n",
      "fscore : 0.7739148163666875 ,hidden_layer_l : 4 ,hidden_layer_w : 10 ,learning_rate : 0.0001\n",
      "fscore : 0.9153251121794206 ,hidden_layer_l : 4 ,hidden_layer_w : 10 ,learning_rate : 0.0006000000000000001\n",
      "fscore : 0.9337661587305929 ,hidden_layer_l : 4 ,hidden_layer_w : 10 ,learning_rate : 0.0011\n",
      "fscore : 0.9257156046363778 ,hidden_layer_l : 4 ,hidden_layer_w : 10 ,learning_rate : 0.0016\n",
      "fscore : 0.9320322891075011 ,hidden_layer_l : 4 ,hidden_layer_w : 10 ,learning_rate : 0.0021\n",
      "fscore : 0.938529544426435 ,hidden_layer_l : 4 ,hidden_layer_w : 10 ,learning_rate : 0.0026\n",
      "fscore : 0.9352455837406914 ,hidden_layer_l : 4 ,hidden_layer_w : 10 ,learning_rate : 0.0031\n",
      "fscore : 0.9333806464289823 ,hidden_layer_l : 4 ,hidden_layer_w : 10 ,learning_rate : 0.0036\n",
      "fscore : 0.9164881449939455 ,hidden_layer_l : 4 ,hidden_layer_w : 10 ,learning_rate : 0.0041\n",
      "fscore : 0.9383447554245323 ,hidden_layer_l : 4 ,hidden_layer_w : 10 ,learning_rate : 0.004600000000000001\n",
      "fscore : 0.9355748555749837 ,hidden_layer_l : 4 ,hidden_layer_w : 10 ,learning_rate : 0.0051\n",
      "fscore : 0.9288405989773102 ,hidden_layer_l : 4 ,hidden_layer_w : 10 ,learning_rate : 0.0056\n",
      "fscore : 0.9366897983139673 ,hidden_layer_l : 4 ,hidden_layer_w : 10 ,learning_rate : 0.0061\n",
      "fscore : 0.9256064735583104 ,hidden_layer_l : 4 ,hidden_layer_w : 10 ,learning_rate : 0.006600000000000001\n",
      "fscore : 0.9309913826495373 ,hidden_layer_l : 4 ,hidden_layer_w : 10 ,learning_rate : 0.0071\n",
      "fscore : 0.9107638531111218 ,hidden_layer_l : 4 ,hidden_layer_w : 10 ,learning_rate : 0.0076\n",
      "fscore : 0.9390678299122764 ,hidden_layer_l : 4 ,hidden_layer_w : 10 ,learning_rate : 0.0081\n",
      "fscore : 0.9032407740852955 ,hidden_layer_l : 4 ,hidden_layer_w : 10 ,learning_rate : 0.0086\n",
      "fscore : 0.9375360533540046 ,hidden_layer_l : 4 ,hidden_layer_w : 10 ,learning_rate : 0.0091\n",
      "fscore : 0.9152836729580418 ,hidden_layer_l : 4 ,hidden_layer_w : 10 ,learning_rate : 0.0096\n",
      "fscore : 0.9242001498179069 ,hidden_layer_l : 4 ,hidden_layer_w : 30 ,learning_rate : 0.0001\n",
      "fscore : 0.9480554108653434 ,hidden_layer_l : 4 ,hidden_layer_w : 30 ,learning_rate : 0.0006000000000000001\n",
      "fscore : 0.9510503338324435 ,hidden_layer_l : 4 ,hidden_layer_w : 30 ,learning_rate : 0.0011\n",
      "fscore : 0.9449383099189943 ,hidden_layer_l : 4 ,hidden_layer_w : 30 ,learning_rate : 0.0016\n",
      "fscore : 0.9474177084030799 ,hidden_layer_l : 4 ,hidden_layer_w : 30 ,learning_rate : 0.0021\n"
     ]
    },
    {
     "name": "stdout",
     "output_type": "stream",
     "text": [
      "fscore : 0.9259617765577836 ,hidden_layer_l : 4 ,hidden_layer_w : 30 ,learning_rate : 0.0026\n",
      "fscore : 0.9363410449757643 ,hidden_layer_l : 4 ,hidden_layer_w : 30 ,learning_rate : 0.0031\n",
      "fscore : 0.9388308294986705 ,hidden_layer_l : 4 ,hidden_layer_w : 30 ,learning_rate : 0.0036\n",
      "fscore : 0.9447061704422504 ,hidden_layer_l : 4 ,hidden_layer_w : 30 ,learning_rate : 0.0041\n",
      "fscore : 0.9375244484203632 ,hidden_layer_l : 4 ,hidden_layer_w : 30 ,learning_rate : 0.004600000000000001\n",
      "fscore : 0.9471813819950494 ,hidden_layer_l : 4 ,hidden_layer_w : 30 ,learning_rate : 0.0051\n",
      "fscore : 0.9472363715459553 ,hidden_layer_l : 4 ,hidden_layer_w : 30 ,learning_rate : 0.0056\n",
      "fscore : 0.9426803041396342 ,hidden_layer_l : 4 ,hidden_layer_w : 30 ,learning_rate : 0.0061\n",
      "fscore : 0.9495638078376258 ,hidden_layer_l : 4 ,hidden_layer_w : 30 ,learning_rate : 0.006600000000000001\n",
      "fscore : 0.9460153340116063 ,hidden_layer_l : 4 ,hidden_layer_w : 30 ,learning_rate : 0.0071\n",
      "fscore : 0.9387735340985172 ,hidden_layer_l : 4 ,hidden_layer_w : 30 ,learning_rate : 0.0076\n",
      "fscore : 0.910898269515469 ,hidden_layer_l : 4 ,hidden_layer_w : 30 ,learning_rate : 0.0081\n",
      "fscore : 0.9441957362395783 ,hidden_layer_l : 4 ,hidden_layer_w : 30 ,learning_rate : 0.0086\n",
      "fscore : 0.9339920440944101 ,hidden_layer_l : 4 ,hidden_layer_w : 30 ,learning_rate : 0.0091\n",
      "fscore : 0.9283407221185208 ,hidden_layer_l : 4 ,hidden_layer_w : 30 ,learning_rate : 0.0096\n",
      "fscore : 0.9285744658455539 ,hidden_layer_l : 4 ,hidden_layer_w : 50 ,learning_rate : 0.0001\n",
      "fscore : 0.9470348019370532 ,hidden_layer_l : 4 ,hidden_layer_w : 50 ,learning_rate : 0.0006000000000000001\n",
      "fscore : 0.9533947355759541 ,hidden_layer_l : 4 ,hidden_layer_w : 50 ,learning_rate : 0.0011\n",
      "fscore : 0.9535571647118408 ,hidden_layer_l : 4 ,hidden_layer_w : 50 ,learning_rate : 0.0016\n",
      "fscore : 0.947297285452779 ,hidden_layer_l : 4 ,hidden_layer_w : 50 ,learning_rate : 0.0021\n",
      "fscore : 0.9476602133145694 ,hidden_layer_l : 4 ,hidden_layer_w : 50 ,learning_rate : 0.0026\n",
      "fscore : 0.9436146770739179 ,hidden_layer_l : 4 ,hidden_layer_w : 50 ,learning_rate : 0.0031\n",
      "fscore : 0.9563221238618959 ,hidden_layer_l : 4 ,hidden_layer_w : 50 ,learning_rate : 0.0036\n",
      "fscore : 0.9328763002620519 ,hidden_layer_l : 4 ,hidden_layer_w : 50 ,learning_rate : 0.0041\n",
      "fscore : 0.9483067277792946 ,hidden_layer_l : 4 ,hidden_layer_w : 50 ,learning_rate : 0.004600000000000001\n",
      "fscore : 0.9372064599037766 ,hidden_layer_l : 4 ,hidden_layer_w : 50 ,learning_rate : 0.0051\n",
      "fscore : 0.9384696214049961 ,hidden_layer_l : 4 ,hidden_layer_w : 50 ,learning_rate : 0.0056\n",
      "fscore : 0.9430091750688655 ,hidden_layer_l : 4 ,hidden_layer_w : 50 ,learning_rate : 0.0061\n",
      "fscore : 0.9195597698756846 ,hidden_layer_l : 4 ,hidden_layer_w : 50 ,learning_rate : 0.006600000000000001\n",
      "fscore : 0.9055015839738763 ,hidden_layer_l : 4 ,hidden_layer_w : 50 ,learning_rate : 0.0071\n",
      "fscore : 0.9361421233702703 ,hidden_layer_l : 4 ,hidden_layer_w : 50 ,learning_rate : 0.0076\n",
      "fscore : 0.9343617734917614 ,hidden_layer_l : 4 ,hidden_layer_w : 50 ,learning_rate : 0.0081\n",
      "fscore : 0.9367046843730774 ,hidden_layer_l : 4 ,hidden_layer_w : 50 ,learning_rate : 0.0086\n",
      "fscore : 0.9188973595032617 ,hidden_layer_l : 4 ,hidden_layer_w : 50 ,learning_rate : 0.0091\n",
      "fscore : 0.9297912481685332 ,hidden_layer_l : 4 ,hidden_layer_w : 50 ,learning_rate : 0.0096\n",
      "fscore : 0.9344820933768302 ,hidden_layer_l : 4 ,hidden_layer_w : 70 ,learning_rate : 0.0001\n",
      "fscore : 0.9509156536786626 ,hidden_layer_l : 4 ,hidden_layer_w : 70 ,learning_rate : 0.0006000000000000001\n",
      "fscore : 0.9422008046547172 ,hidden_layer_l : 4 ,hidden_layer_w : 70 ,learning_rate : 0.0011\n",
      "fscore : 0.9350109529160028 ,hidden_layer_l : 4 ,hidden_layer_w : 70 ,learning_rate : 0.0016\n",
      "fscore : 0.9435377768781916 ,hidden_layer_l : 4 ,hidden_layer_w : 70 ,learning_rate : 0.0021\n",
      "fscore : 0.94680291001723 ,hidden_layer_l : 4 ,hidden_layer_w : 70 ,learning_rate : 0.0026\n",
      "fscore : 0.9444927202877018 ,hidden_layer_l : 4 ,hidden_layer_w : 70 ,learning_rate : 0.0031\n",
      "fscore : 0.9350003457442584 ,hidden_layer_l : 4 ,hidden_layer_w : 70 ,learning_rate : 0.0036\n",
      "fscore : 0.9470348191248993 ,hidden_layer_l : 4 ,hidden_layer_w : 70 ,learning_rate : 0.0041\n",
      "fscore : 0.9454097952285134 ,hidden_layer_l : 4 ,hidden_layer_w : 70 ,learning_rate : 0.004600000000000001\n",
      "fscore : 0.9456319882314216 ,hidden_layer_l : 4 ,hidden_layer_w : 70 ,learning_rate : 0.0051\n",
      "fscore : 0.9442188070675219 ,hidden_layer_l : 4 ,hidden_layer_w : 70 ,learning_rate : 0.0056\n",
      "fscore : 0.9440395789348446 ,hidden_layer_l : 4 ,hidden_layer_w : 70 ,learning_rate : 0.0061\n",
      "fscore : 0.9375235124307052 ,hidden_layer_l : 4 ,hidden_layer_w : 70 ,learning_rate : 0.006600000000000001\n",
      "fscore : 0.9396851346691432 ,hidden_layer_l : 4 ,hidden_layer_w : 70 ,learning_rate : 0.0071\n",
      "fscore : 0.9190167995827458 ,hidden_layer_l : 4 ,hidden_layer_w : 70 ,learning_rate : 0.0076\n",
      "fscore : 0.9410474581181233 ,hidden_layer_l : 4 ,hidden_layer_w : 70 ,learning_rate : 0.0081\n",
      "fscore : 0.9389635593838079 ,hidden_layer_l : 4 ,hidden_layer_w : 70 ,learning_rate : 0.0086\n",
      "fscore : 0.934116805315611 ,hidden_layer_l : 4 ,hidden_layer_w : 70 ,learning_rate : 0.0091\n",
      "fscore : 0.9440475473480944 ,hidden_layer_l : 4 ,hidden_layer_w : 70 ,learning_rate : 0.0096\n",
      "fscore : 0.9388337971613032 ,hidden_layer_l : 4 ,hidden_layer_w : 90 ,learning_rate : 0.0001\n",
      "fscore : 0.950651624541424 ,hidden_layer_l : 4 ,hidden_layer_w : 90 ,learning_rate : 0.0006000000000000001\n",
      "fscore : 0.9488362045055586 ,hidden_layer_l : 4 ,hidden_layer_w : 90 ,learning_rate : 0.0011\n",
      "fscore : 0.9526338355180227 ,hidden_layer_l : 4 ,hidden_layer_w : 90 ,learning_rate : 0.0016\n",
      "fscore : 0.9428630201058065 ,hidden_layer_l : 4 ,hidden_layer_w : 90 ,learning_rate : 0.0021\n",
      "fscore : 0.9218828304942767 ,hidden_layer_l : 4 ,hidden_layer_w : 90 ,learning_rate : 0.0026\n",
      "fscore : 0.9515723052769403 ,hidden_layer_l : 4 ,hidden_layer_w : 90 ,learning_rate : 0.0031\n",
      "fscore : 0.9164884177438388 ,hidden_layer_l : 4 ,hidden_layer_w : 90 ,learning_rate : 0.0036\n",
      "fscore : 0.9436898185352227 ,hidden_layer_l : 4 ,hidden_layer_w : 90 ,learning_rate : 0.0041\n",
      "fscore : 0.9433673999193883 ,hidden_layer_l : 4 ,hidden_layer_w : 90 ,learning_rate : 0.004600000000000001\n",
      "fscore : 0.9507631477012494 ,hidden_layer_l : 4 ,hidden_layer_w : 90 ,learning_rate : 0.0051\n",
      "fscore : 0.9354261631124802 ,hidden_layer_l : 4 ,hidden_layer_w : 90 ,learning_rate : 0.0056\n",
      "fscore : 0.9330737896151771 ,hidden_layer_l : 4 ,hidden_layer_w : 90 ,learning_rate : 0.0061\n",
      "fscore : 0.9388436922207427 ,hidden_layer_l : 4 ,hidden_layer_w : 90 ,learning_rate : 0.006600000000000001\n",
      "fscore : 0.9154953447851126 ,hidden_layer_l : 4 ,hidden_layer_w : 90 ,learning_rate : 0.0071\n",
      "fscore : 0.9474958488081064 ,hidden_layer_l : 4 ,hidden_layer_w : 90 ,learning_rate : 0.0076\n",
      "fscore : 0.9253055554084543 ,hidden_layer_l : 4 ,hidden_layer_w : 90 ,learning_rate : 0.0081\n",
      "fscore : 0.9212821528457267 ,hidden_layer_l : 4 ,hidden_layer_w : 90 ,learning_rate : 0.0086\n",
      "fscore : 0.9370961680560852 ,hidden_layer_l : 4 ,hidden_layer_w : 90 ,learning_rate : 0.0091\n",
      "fscore : 0.9254255642300334 ,hidden_layer_l : 4 ,hidden_layer_w : 90 ,learning_rate : 0.0096\n",
      "fscore : 0.9470254046727824 ,hidden_layer_l : 4 ,hidden_layer_w : 110 ,learning_rate : 0.0001\n",
      "fscore : 0.9470589025184193 ,hidden_layer_l : 4 ,hidden_layer_w : 110 ,learning_rate : 0.0006000000000000001\n"
     ]
    }
   ],
   "source": [
    "from sklearn.neural_network import MLPClassifier\n",
    "from sklearn.metrics import precision_recall_fscore_support as score\n",
    "f_score=0.001\n",
    "hidden_layer_l=0\n",
    "hidden_layer_w=0\n",
    "learning_rate=0\n",
    "lrr = np.arange(0.0001,0.01,0.0005)\n",
    "for i in range(2,5):\n",
    "    for j in range(10,200,20):\n",
    "        for lr in lrr:\n",
    "            hidden = np.full(i, j, dtype=int)\n",
    "            mlp = MLPClassifier(hidden_layer_sizes=hidden, max_iter=100,learning_rate_init= lr)  \n",
    "            mlp.fit(X_train, y_train.values.ravel())\n",
    "            predictions = mlp.predict(X_test)\n",
    "            precision,recall,fscore,support=score(y_test,predictions,average='macro')\n",
    "            print('fscore : {} ,hidden_layer_l : {} ,hidden_layer_w : {} ,learning_rate : {}'.format(fscore,i,j,lr))\n",
    "            if fscore>f_score:\n",
    "                print('current fscore ---------- {}'.format(fscore))\n",
    "                f_score = fscore\n",
    "                hidden_layer_l=i\n",
    "                hidden_layer_w=j\n",
    "                learning_rate=lr"
   ]
  },
  {
   "cell_type": "markdown",
   "metadata": {},
   "source": [
    "fscore : 0.9588747498434732 ,hidden_layer_l : 3 ,hidden_layer_w : 70 ,learning_rate : 0.0036"
   ]
  },
  {
   "cell_type": "code",
   "execution_count": 9,
   "metadata": {},
   "outputs": [],
   "source": [
    "# initializing the pca\n",
    "from sklearn import decomposition\n",
    "pca = decomposition.PCA()"
   ]
  },
  {
   "cell_type": "code",
   "execution_count": 8,
   "metadata": {},
   "outputs": [
    {
     "data": {
      "image/png": "[encoded data removed]",
      "text/plain": [
       "<Figure size 432x288 with 1 Axes>"
      ]
     },
     "metadata": {},
     "output_type": "display_data"
    }
   ],
   "source": [
    "pca.n_components = 103\n",
    "pca_data = pca.fit_transform(data)\n",
    "\n",
    "percentage_var_explained = pca.explained_variance_ / np.sum(pca.explained_variance_);\n",
    "\n",
    "cum_var_explained = np.cumsum(percentage_var_explained)\n",
    "\n",
    "# Plot the PCA spectrum\n",
    "plt.figure(1, figsize=(6, 4))\n",
    "\n",
    "plt.clf()\n",
    "plt.plot(cum_var_explained, linewidth=2)\n",
    "plt.axis('tight')\n",
    "plt.grid()\n",
    "plt.xlabel('n_components')\n",
    "plt.ylabel('Cumulative_explained_variance')\n",
    "plt.show()"
   ]
  },
  {
   "cell_type": "code",
   "execution_count": 39,
   "metadata": {},
   "outputs": [
    {
     "data": {
      "text/plain": [
       "0.9915829132438453"
      ]
     },
     "execution_count": 39,
     "metadata": {},
     "output_type": "execute_result"
    }
   ],
   "source": [
    "cum_var_explained[2]"
   ]
  },
  {
   "cell_type": "code",
   "execution_count": 10,
   "metadata": {},
   "outputs": [
    {
     "name": "stdout",
     "output_type": "stream",
     "text": [
      "shape of pca_reduced.shape =  (42775, 2)\n"
     ]
    }
   ],
   "source": [
    "pca.n_components = 2\n",
    "pca_data = pca.fit_transform(data)\n",
    "\n",
    "# pca_reduced will contain the 2-d projects of simple data\n",
    "print(\"shape of pca_reduced.shape = \", pca_data.shape)"
   ]
  },
  {
   "cell_type": "code",
   "execution_count": 11,
   "metadata": {},
   "outputs": [
    {
     "data": {
      "image/png": "[encoded data removed]",
      "text/plain": [
       "<Figure size 483.875x432 with 1 Axes>"
      ]
     },
     "metadata": {
      "needs_background": "light"
     },
     "output_type": "display_data"
    }
   ],
   "source": [
    "# attaching the label for each 2-d data point \n",
    "pca_data = np.vstack((pca_data.T, label.T)).T\n",
    "\n",
    "# creating a new data fram which help us in ploting the result data\n",
    "pca_df = pd.DataFrame(data=pca_data, columns=(\"1st_principal\", \"2nd_principal\", \"label\"))\n",
    "sn.FacetGrid(pca_df, hue=\"label\", size=6).map(plt.scatter, '1st_principal', '2nd_principal').add_legend()\n",
    "plt.show()"
   ]
  },
  {
   "cell_type": "code",
   "execution_count": 12,
   "metadata": {},
   "outputs": [],
   "source": [
    "from sklearn.model_selection import train_test_split  \n",
    "X_train, X_test, y_train, y_test = train_test_split(pca_data, label, test_size = 0.20)  "
   ]
  },
  {
   "cell_type": "code",
   "execution_count": 13,
   "metadata": {},
   "outputs": [],
   "source": [
    "from sklearn.preprocessing import StandardScaler  \n",
    "scaler = StandardScaler()  \n",
    "scaler.fit(X_train)\n",
    "\n",
    "X_train = scaler.transform(X_train)  \n",
    "X_test = scaler.transform(X_test)  "
   ]
  },
  {
   "cell_type": "code",
   "execution_count": 14,
   "metadata": {},
   "outputs": [
    {
     "data": {
      "text/plain": [
       "MLPClassifier(activation='relu', alpha=0.0001, batch_size='auto', beta_1=0.9,\n",
       "       beta_2=0.999, early_stopping=False, epsilon=1e-08,\n",
       "       hidden_layer_sizes=(70, 70, 70), learning_rate='constant',\n",
       "       learning_rate_init=0.0036, max_iter=100, momentum=0.9,\n",
       "       n_iter_no_change=10, nesterovs_momentum=True, power_t=0.5,\n",
       "       random_state=None, shuffle=True, solver='adam', tol=0.0001,\n",
       "       validation_fraction=0.1, verbose=False, warm_start=False)"
      ]
     },
     "execution_count": 14,
     "metadata": {},
     "output_type": "execute_result"
    }
   ],
   "source": [
    "from sklearn.neural_network import MLPClassifier  \n",
    "mlp = MLPClassifier(hidden_layer_sizes=(70,70,70), max_iter=100,learning_rate_init=0.0036)  \n",
    "mlp.fit(X_train, y_train.values.ravel())  "
   ]
  },
  {
   "cell_type": "code",
   "execution_count": 34,
   "metadata": {},
   "outputs": [
    {
     "name": "stdout",
     "output_type": "stream",
     "text": [
      "Precision : 1.0\n",
      "Recall    : 1.0\n",
      "F-score   : 1.0\n",
      "Support   : None\n"
     ]
    }
   ],
   "source": [
    "predictions = mlp.predict(X_test) \n",
    "from sklearn.metrics import precision_recall_fscore_support as score\n",
    "precision,recall,fscore,support=score(y_test,predictions,average='macro')\n",
    "print('Precision : {}'.format(precision))\n",
    "print('Recall    : {}'.format(recall))\n",
    "print('F-score   : {}'.format(fscore))\n",
    "print('Support   : {}'.format(support))"
   ]
  },
  {
   "cell_type": "code",
   "execution_count": 19,
   "metadata": {},
   "outputs": [
    {
     "name": "stdout",
     "output_type": "stream",
     "text": [
      "shape of pca_reduced.shape =  (42775, 103)\n",
      "Precision : 0.9965655801883025\n",
      "Recall    : 0.9953468575678168\n",
      "F-score   : 0.9959419719267361\n",
      "Support   : None\n"
     ]
    }
   ],
   "source": [
    "pca.n_components = 103\n",
    "pca_data = pca.fit_transform(data)\n",
    "\n",
    "# pca_reduced will contain the 2-d projects of simple data\n",
    "print(\"shape of pca_reduced.shape = \", pca_data.shape)\n",
    "pca_data = np.vstack((pca_data.T, label.T)).T\n",
    "\n",
    "X_train, X_test, y_train, y_test = train_test_split(pca_data, label, test_size = 0.20) \n",
    "scaler = StandardScaler()  \n",
    "scaler.fit(X_train)\n",
    "\n",
    "X_train = scaler.transform(X_train)  \n",
    "X_test = scaler.transform(X_test) \n",
    "mlp = MLPClassifier(hidden_layer_sizes=(70,70,70), max_iter=100,learning_rate_init=0.0036)  \n",
    "mlp.fit(X_train, y_train.values.ravel())  \n",
    "predictions = mlp.predict(X_test) \n",
    "from sklearn.metrics import precision_recall_fscore_support as score\n",
    "precision,recall,fscore,support=score(y_test,predictions,average='macro')\n",
    "print('Precision : {}'.format(precision))\n",
    "print('Recall    : {}'.format(recall))\n",
    "print('F-score   : {}'.format(fscore))\n",
    "print('Support   : {}'.format(support))"
   ]
  },
  {
   "cell_type": "code",
   "execution_count": 22,
   "metadata": {},
   "outputs": [
    {
     "name": "stdout",
     "output_type": "stream",
     "text": [
      "shape of pca_reduced.shape =  (42775, 20)\n",
      "Precision : 0.9993484789096312\n",
      "Recall    : 0.9993392514002488\n",
      "F-score   : 0.9993437659008563\n",
      "Support   : None\n"
     ]
    }
   ],
   "source": [
    "pca.n_components = 20\n",
    "pca_data = pca.fit_transform(data)\n",
    "\n",
    "# pca_reduced will contain the 2-d projects of simple data\n",
    "print(\"shape of pca_reduced.shape = \", pca_data.shape)\n",
    "pca_data = np.vstack((pca_data.T, label.T)).T\n",
    "\n",
    "\n",
    "X_train, X_test, y_train, y_test = train_test_split(pca_data, label, test_size = 0.60) \n",
    "scaler = StandardScaler()  \n",
    "scaler.fit(X_train)\n",
    "\n",
    "X_train = scaler.transform(X_train)  \n",
    "X_test = scaler.transform(X_test) \n",
    "mlp = MLPClassifier(hidden_layer_sizes=(70,70,70), max_iter=100,learning_rate_init=0.0036)  \n",
    "mlp.fit(X_train, y_train.values.ravel())  \n",
    "predictions = mlp.predict(X_test) \n",
    "from sklearn.metrics import precision_recall_fscore_support as score\n",
    "precision,recall,fscore,support=score(y_test,predictions,average='macro')\n",
    "print('Precision : {}'.format(precision))\n",
    "print('Recall    : {}'.format(recall))\n",
    "print('F-score   : {}'.format(fscore))\n",
    "print('Support   : {}'.format(support))"
   ]
  },
  {
   "cell_type": "code",
   "execution_count": 54,
   "metadata": {},
   "outputs": [
    {
     "name": "stdout",
     "output_type": "stream",
     "text": [
      "shape of pca_reduced.shape =  (42775, 20)\n",
      "Precision : 0.9261151861076874\n",
      "Recall    : 0.9299082852576027\n",
      "F-score   : 0.9276901533098408\n",
      "Support   : None\n"
     ]
    }
   ],
   "source": [
    "data = pd.read_csv('PaviaU_features.txt') \n",
    "label = pd.read_csv('PaviaU-label.txt') \n",
    "pca.n_components = \n",
    "pca_data = pca.fit_transform(data)\n",
    "\n",
    "# pca_reduced will contain the 2-d projects of simple data\n",
    "print(\"shape of pca_reduced.shape = \", pca_data.shape)\n",
    "\n",
    "\n",
    "X_train, X_test, y_train, y_test = train_test_split(pca_data, label, test_size = 0.60) \n",
    "\n",
    "mlp = MLPClassifier(hidden_layer_sizes=(120), max_iter=100,learning_rate_init=0.0036)  \n",
    "mlp.fit(X_train, y_train.values.ravel())  \n",
    "predictions = mlp.predict(X_test) \n",
    "from sklearn.metrics import precision_recall_fscore_support as score\n",
    "precision,recall,fscore,support=score(y_test,predictions,average='macro')\n",
    "print('Precision : {}'.format(precision))\n",
    "print('Recall    : {}'.format(recall))\n",
    "print('F-score   : {}'.format(fscore))\n",
    "print('Support   : {}'.format(support))"
   ]
  },
  {
   "cell_type": "code",
   "execution_count": 55,
   "metadata": {},
   "outputs": [
    {
     "data": {
      "image/png": "[encoded data removed]",
      "text/plain": [
       "<Figure size 432x288 with 1 Axes>"
      ]
     },
     "metadata": {
      "needs_background": "light"
     },
     "output_type": "display_data"
    }
   ],
   "source": [
    "import seaborn as sns\n",
    "ax = sns.lineplot(x=[20,23,43,63,83,103],y=[88.78951449702224,90.22352058421453,91.935806823051,92.17898550409518,92.22474644897408,67.49429465771455])"
   ]
  },
  {
   "cell_type": "code",
   "execution_count": null,
   "metadata": {},
   "outputs": [],
   "source": []
  },
  {
   "cell_type": "code",
   "execution_count": null,
   "metadata": {},
   "outputs": [],
   "source": []
  }
 ],
 "metadata": {
  "kernelspec": {
   "display_name": "Python 3",
   "language": "python",
   "name": "python3"
  },
  "language_info": {
   "codemirror_mode": {
    "name": "ipython",
    "version": 3
   },
   "file_extension": ".py",
   "mimetype": "text/x-python",
   "name": "python",
   "nbconvert_exporter": "python",
   "pygments_lexer": "ipython3",
   "version": "3.7.1"
  }
 },
 "nbformat": 4,
 "nbformat_minor": 2
}
