{
  "nbformat": 4,
  "nbformat_minor": 0,
  "metadata": {
    "colab": {
      "name": "fraud_detection_using_Metric_Cost.ipynb",
      "version": "0.3.2",
      "provenance": [],
      "collapsed_sections": [],
      "toc_visible": true
    },
    "language_info": {
      "codemirror_mode": {
        "name": "ipython",
        "version": 3
      },
      "file_extension": ".py",
      "mimetype": "text/x-python",
      "name": "python",
      "nbconvert_exporter": "python",
      "pygments_lexer": "ipython3",
      "version": "3.7.1"
    },
    "kernelspec": {
      "display_name": "Python 3",
      "language": "python",
      "name": "python3"
    }
  },
  "cells": [
    {
      "metadata": {
        "id": "7fZSDVG5dJvZ",
        "colab_type": "code",
        "outputId": "62955128-7367-4250-ed9b-56c622408081",
        "colab": {
          "base_uri": "https://localhost:8080/",
          "height": 63
        }
      },
      "cell_type": "code",
      "source": [
        "!git clone https://github.com/souravyuvrajj/datasets.git"
      ],
      "execution_count": 0,
      "outputs": [
        {
          "output_type": "stream",
          "text": [
            "fatal: destination path 'datasets' already exists and is not an empty directory.\n"
          ],
          "name": "stdout"
        }
      ]
    },
    {
      "metadata": {
        "id": "7TwktqPKc2sb",
        "colab_type": "code",
        "colab": {}
      },
      "cell_type": "code",
      "source": [
        "from sklearn.base import clone\n",
        "from sklearn.base import BaseEstimator, ClassifierMixin\n",
        "# from utils import balanced_class_weights\n",
        "import numpy as np\n",
        "import sklearn.metrics\n",
        "import pandas as pd\n",
        "from sklearn.model_selection import train_test_split\n",
        "import matplotlib.pyplot as plt\n",
        "from sklearn.metrics import confusion_matrix\n",
        "import seaborn as sns\n",
        "import itertools\n",
        "from sklearn.metrics import roc_curve, auc, roc_auc_score, log_loss, accuracy_score, confusion_matrix\n",
        "from patsy import dmatrices\n",
        "from math import log\n",
        "from sklearn.neural_network import MLPClassifier\n",
        "from sklearn.metrics import classification_report, confusion_matrix  \n",
        "from sklearn.metrics import precision_recall_fscore_support as score\n",
        "import copy \n",
        "from sklearn.preprocessing import StandardScaler \n",
        "from pylab import rcParams\n",
        "%matplotlib inline\n",
        "\n",
        "sns.set(style='whitegrid', palette='muted', font_scale=1.5)\n",
        "\n",
        "rcParams['figure.figsize'] = 14, 8"
      ],
      "execution_count": 0,
      "outputs": []
    },
    {
      "metadata": {
        "id": "1zWl7SyGc2so",
        "colab_type": "code",
        "colab": {}
      },
      "cell_type": "code",
      "source": [
        "df = pd.read_excel('datasets/default of credit card clients.xls',header=1)"
      ],
      "execution_count": 0,
      "outputs": []
    },
    {
      "metadata": {
        "id": "r2V30Hjhc2sx",
        "colab_type": "code",
        "outputId": "aebfc794-0f1e-4dc8-8635-88bf6fcd4f52",
        "colab": {
          "base_uri": "https://localhost:8080/",
          "height": 119
        }
      },
      "cell_type": "code",
      "source": [
        "df.columns = [x.lower() for x in df.columns]\n",
        "df = df.rename(index=str, columns={\"pay_0\": \"pay_1\"})\n",
        "df = df.drop('id', axis=1)\n",
        "df.columns"
      ],
      "execution_count": 0,
      "outputs": [
        {
          "output_type": "execute_result",
          "data": {
            "text/plain": [
              "Index(['limit_bal', 'sex', 'education', 'marriage', 'age', 'pay_1', 'pay_2',\n",
              "       'pay_3', 'pay_4', 'pay_5', 'pay_6', 'bill_amt1', 'bill_amt2',\n",
              "       'bill_amt3', 'bill_amt4', 'bill_amt5', 'bill_amt6', 'pay_amt1',\n",
              "       'pay_amt2', 'pay_amt3', 'pay_amt4', 'pay_amt5', 'pay_amt6',\n",
              "       'default payment next month'],\n",
              "      dtype='object')"
            ]
          },
          "metadata": {
            "tags": []
          },
          "execution_count": 101
        }
      ]
    },
    {
      "metadata": {
        "id": "5IAawXo0c2tA",
        "colab_type": "code",
        "outputId": "1c1f1d7f-2483-49e8-9b19-509f07b6bf9f",
        "colab": {
          "base_uri": "https://localhost:8080/",
          "height": 68
        }
      },
      "cell_type": "code",
      "source": [
        "df['target'] = df['default payment next month'].astype('category')\n",
        "\n",
        "# create a 'target' column for our own convenience\n",
        "print(\"Target variable:       '{}' -> '{}'\".format('default payment next month', 'target'))\n",
        "df = df.drop('default payment next month', axis=1)\n",
        "\n",
        "print(\"Explanatory variables:  {}\".format(len(df.columns)-1))\n",
        "print(\"Number of Observations: {}\".format(df.shape[0]))"
      ],
      "execution_count": 0,
      "outputs": [
        {
          "output_type": "stream",
          "text": [
            "Target variable:       'default payment next month' -> 'target'\n",
            "Explanatory variables:  23\n",
            "Number of Observations: 30000\n"
          ],
          "name": "stdout"
        }
      ]
    },
    {
      "metadata": {
        "id": "25S2bc7Yc2tH",
        "colab_type": "code",
        "outputId": "bdb1e0a2-ce3b-4a7f-9c24-eb7787996a49",
        "colab": {
          "base_uri": "https://localhost:8080/",
          "height": 258
        }
      },
      "cell_type": "code",
      "source": [
        "df.head()"
      ],
      "execution_count": 0,
      "outputs": [
        {
          "output_type": "execute_result",
          "data": {
            "text/html": [
              "<div>\n",
              "<style scoped>\n",
              "    .dataframe tbody tr th:only-of-type {\n",
              "        vertical-align: middle;\n",
              "    }\n",
              "\n",
              "    .dataframe tbody tr th {\n",
              "        vertical-align: top;\n",
              "    }\n",
              "\n",
              "    .dataframe thead th {\n",
              "        text-align: right;\n",
              "    }\n",
              "</style>\n",
              "<table border=\"1\" class=\"dataframe\">\n",
              "  <thead>\n",
              "    <tr style=\"text-align: right;\">\n",
              "      <th></th>\n",
              "      <th>limit_bal</th>\n",
              "      <th>sex</th>\n",
              "      <th>education</th>\n",
              "      <th>marriage</th>\n",
              "      <th>age</th>\n",
              "      <th>pay_1</th>\n",
              "      <th>pay_2</th>\n",
              "      <th>pay_3</th>\n",
              "      <th>pay_4</th>\n",
              "      <th>pay_5</th>\n",
              "      <th>...</th>\n",
              "      <th>bill_amt4</th>\n",
              "      <th>bill_amt5</th>\n",
              "      <th>bill_amt6</th>\n",
              "      <th>pay_amt1</th>\n",
              "      <th>pay_amt2</th>\n",
              "      <th>pay_amt3</th>\n",
              "      <th>pay_amt4</th>\n",
              "      <th>pay_amt5</th>\n",
              "      <th>pay_amt6</th>\n",
              "      <th>target</th>\n",
              "    </tr>\n",
              "  </thead>\n",
              "  <tbody>\n",
              "    <tr>\n",
              "      <th>0</th>\n",
              "      <td>20000</td>\n",
              "      <td>2</td>\n",
              "      <td>2</td>\n",
              "      <td>1</td>\n",
              "      <td>24</td>\n",
              "      <td>2</td>\n",
              "      <td>2</td>\n",
              "      <td>-1</td>\n",
              "      <td>-1</td>\n",
              "      <td>-2</td>\n",
              "      <td>...</td>\n",
              "      <td>0</td>\n",
              "      <td>0</td>\n",
              "      <td>0</td>\n",
              "      <td>0</td>\n",
              "      <td>689</td>\n",
              "      <td>0</td>\n",
              "      <td>0</td>\n",
              "      <td>0</td>\n",
              "      <td>0</td>\n",
              "      <td>1</td>\n",
              "    </tr>\n",
              "    <tr>\n",
              "      <th>1</th>\n",
              "      <td>120000</td>\n",
              "      <td>2</td>\n",
              "      <td>2</td>\n",
              "      <td>2</td>\n",
              "      <td>26</td>\n",
              "      <td>-1</td>\n",
              "      <td>2</td>\n",
              "      <td>0</td>\n",
              "      <td>0</td>\n",
              "      <td>0</td>\n",
              "      <td>...</td>\n",
              "      <td>3272</td>\n",
              "      <td>3455</td>\n",
              "      <td>3261</td>\n",
              "      <td>0</td>\n",
              "      <td>1000</td>\n",
              "      <td>1000</td>\n",
              "      <td>1000</td>\n",
              "      <td>0</td>\n",
              "      <td>2000</td>\n",
              "      <td>1</td>\n",
              "    </tr>\n",
              "    <tr>\n",
              "      <th>2</th>\n",
              "      <td>90000</td>\n",
              "      <td>2</td>\n",
              "      <td>2</td>\n",
              "      <td>2</td>\n",
              "      <td>34</td>\n",
              "      <td>0</td>\n",
              "      <td>0</td>\n",
              "      <td>0</td>\n",
              "      <td>0</td>\n",
              "      <td>0</td>\n",
              "      <td>...</td>\n",
              "      <td>14331</td>\n",
              "      <td>14948</td>\n",
              "      <td>15549</td>\n",
              "      <td>1518</td>\n",
              "      <td>1500</td>\n",
              "      <td>1000</td>\n",
              "      <td>1000</td>\n",
              "      <td>1000</td>\n",
              "      <td>5000</td>\n",
              "      <td>0</td>\n",
              "    </tr>\n",
              "    <tr>\n",
              "      <th>3</th>\n",
              "      <td>50000</td>\n",
              "      <td>2</td>\n",
              "      <td>2</td>\n",
              "      <td>1</td>\n",
              "      <td>37</td>\n",
              "      <td>0</td>\n",
              "      <td>0</td>\n",
              "      <td>0</td>\n",
              "      <td>0</td>\n",
              "      <td>0</td>\n",
              "      <td>...</td>\n",
              "      <td>28314</td>\n",
              "      <td>28959</td>\n",
              "      <td>29547</td>\n",
              "      <td>2000</td>\n",
              "      <td>2019</td>\n",
              "      <td>1200</td>\n",
              "      <td>1100</td>\n",
              "      <td>1069</td>\n",
              "      <td>1000</td>\n",
              "      <td>0</td>\n",
              "    </tr>\n",
              "    <tr>\n",
              "      <th>4</th>\n",
              "      <td>50000</td>\n",
              "      <td>1</td>\n",
              "      <td>2</td>\n",
              "      <td>1</td>\n",
              "      <td>57</td>\n",
              "      <td>-1</td>\n",
              "      <td>0</td>\n",
              "      <td>-1</td>\n",
              "      <td>0</td>\n",
              "      <td>0</td>\n",
              "      <td>...</td>\n",
              "      <td>20940</td>\n",
              "      <td>19146</td>\n",
              "      <td>19131</td>\n",
              "      <td>2000</td>\n",
              "      <td>36681</td>\n",
              "      <td>10000</td>\n",
              "      <td>9000</td>\n",
              "      <td>689</td>\n",
              "      <td>679</td>\n",
              "      <td>0</td>\n",
              "    </tr>\n",
              "  </tbody>\n",
              "</table>\n",
              "<p>5 rows × 24 columns</p>\n",
              "</div>"
            ],
            "text/plain": [
              "   limit_bal  sex  education  marriage  age  pay_1  pay_2  pay_3  pay_4  \\\n",
              "0      20000    2          2         1   24      2      2     -1     -1   \n",
              "1     120000    2          2         2   26     -1      2      0      0   \n",
              "2      90000    2          2         2   34      0      0      0      0   \n",
              "3      50000    2          2         1   37      0      0      0      0   \n",
              "4      50000    1          2         1   57     -1      0     -1      0   \n",
              "\n",
              "   pay_5   ...    bill_amt4  bill_amt5  bill_amt6  pay_amt1  pay_amt2  \\\n",
              "0     -2   ...            0          0          0         0       689   \n",
              "1      0   ...         3272       3455       3261         0      1000   \n",
              "2      0   ...        14331      14948      15549      1518      1500   \n",
              "3      0   ...        28314      28959      29547      2000      2019   \n",
              "4      0   ...        20940      19146      19131      2000     36681   \n",
              "\n",
              "   pay_amt3  pay_amt4  pay_amt5  pay_amt6  target  \n",
              "0         0         0         0         0       1  \n",
              "1      1000      1000         0      2000       1  \n",
              "2      1000      1000      1000      5000       0  \n",
              "3      1200      1100      1069      1000       0  \n",
              "4     10000      9000       689       679       0  \n",
              "\n",
              "[5 rows x 24 columns]"
            ]
          },
          "metadata": {
            "tags": []
          },
          "execution_count": 70
        }
      ]
    },
    {
      "metadata": {
        "id": "qRJilMQKc2tN",
        "colab_type": "text"
      },
      "cell_type": "markdown",
      "source": [
        "#### Attributes description\n",
        "This study uses 23 variables as explanatory variables, extracted/interpreted from : \n",
        "    \n",
        "```\n",
        "   ----------------------------------------------------------------------------------------\n",
        "   Name                 Explantion        \n",
        "   -------------------- -------------------------------------------------------------------\n",
        "   limit_bal            Amount of the given credit (NT dollar): \n",
        "                        it includes both the individual consumer credit \n",
        "                        and his/her family (supplementary) credit.\n",
        "   \n",
        "   sex                  Gender \n",
        "                        (1 = male; 2 = female)\n",
        "   \n",
        "   education            Education\n",
        "                        (1 = graduate school; 2 = university; 3 = high school; 4 = others)\n",
        "   \n",
        "   marriage             Marital status \n",
        "                        (1 = married; 2 = single; 3 = others)\n",
        "   \n",
        "   age                  Age (years)\n",
        "   \n",
        "   pay_1 - pay_6        History of past payment. Past monthly payment records \n",
        "                        From April to September, 2005 as follows:\n",
        "                        \n",
        "                        pay_1 = the repayment status in September, 2005\n",
        "                        pay_2 = the repayment status in August, 2005\n",
        "                        ...\n",
        "                        pay_6 = the repayment status in April, 2005 \n",
        "                        \n",
        "                        The measurement scale for the repayment status is: \n",
        "                        -1 = pay duly; \n",
        "                        1 = payment delay for one month \n",
        "                        2 = payment delay for two months\n",
        "                        ...\n",
        "                        8 = payment delay for eight months \n",
        "                        9 = payment delay for nine months and above\n",
        "                        \n",
        "   bill_amt1-bill_amt5  Amount of bill statement (NT dollar). \n",
        "                        bill_amt1 = amount of bill statement in September, 2005 \n",
        "                        bill_amt2 = amount of bill statement in August, 2005\n",
        "                        ...\n",
        "                        bill_amt6= amount of bill statement in April, 2005 \n",
        "                        \n",
        "   pay_amt1-pay_amt6    Amount of previous payment (NT dollar)\n",
        "                        pay_amt1 = amount paid in September, 2005\n",
        "                        pay_amt2 = amount paid in August, 2005\n",
        "                        ...\n",
        "                        pay_amt6 = amount paid in April, 2005 \n",
        "   ----------------------------------------------------------------------------------------\n",
        "```\n"
      ]
    },
    {
      "metadata": {
        "id": "tsbI46FXc2tO",
        "colab_type": "code",
        "outputId": "f881359b-b843-4d49-a6f9-500dea91311c",
        "colab": {
          "base_uri": "https://localhost:8080/",
          "height": 442
        }
      },
      "cell_type": "code",
      "source": [
        "df.isnull().sum()"
      ],
      "execution_count": 0,
      "outputs": [
        {
          "output_type": "execute_result",
          "data": {
            "text/plain": [
              "limit_bal    0\n",
              "sex          0\n",
              "education    0\n",
              "marriage     0\n",
              "age          0\n",
              "pay_1        0\n",
              "pay_2        0\n",
              "pay_3        0\n",
              "pay_4        0\n",
              "pay_5        0\n",
              "pay_6        0\n",
              "bill_amt1    0\n",
              "bill_amt2    0\n",
              "bill_amt3    0\n",
              "bill_amt4    0\n",
              "bill_amt5    0\n",
              "bill_amt6    0\n",
              "pay_amt1     0\n",
              "pay_amt2     0\n",
              "pay_amt3     0\n",
              "pay_amt4     0\n",
              "pay_amt5     0\n",
              "pay_amt6     0\n",
              "target       0\n",
              "dtype: int64"
            ]
          },
          "metadata": {
            "tags": []
          },
          "execution_count": 71
        }
      ]
    },
    {
      "metadata": {
        "id": "tC_ZyoqVc2tT",
        "colab_type": "code",
        "outputId": "192597e9-3569-442a-f429-8c104c87d6af",
        "colab": {
          "base_uri": "https://localhost:8080/",
          "height": 353
        }
      },
      "cell_type": "code",
      "source": [
        "fig = plt.figure()\n",
        "fig.set_size_inches(5,5)\n",
        "d = df.groupby(['target']).size()\n",
        "\n",
        "print(\"defaulting accounts are {}% out of {} observations\".format(100* d[1]/(d[1]+d[0]), d[1]+d[0]))\n",
        "p = d.plot(kind='barh', color='orange')"
      ],
      "execution_count": 0,
      "outputs": [
        {
          "output_type": "stream",
          "text": [
            "defaulting accounts are 22.12% out of 30000 observations\n"
          ],
          "name": "stdout"
        },
        {
          "output_type": "display_data",
          "data": {
            "image/png": "[encoded data removed]",
            "text/plain": [
              "<Figure size 360x360 with 1 Axes>"
            ]
          },
          "metadata": {
            "tags": []
          }
        }
      ]
    },
    {
      "metadata": {
        "id": "II_EsdSwc2tX",
        "colab_type": "code",
        "colab": {}
      },
      "cell_type": "code",
      "source": [
        "dfd = df.copy(deep=False)\n",
        "dfd['sex'] = dfd['sex'].astype('category').cat.rename_categories(['M', 'F'])\n",
        "dfd['marriage'] = dfd['marriage'].astype('category').cat.rename_categories(['na', 'married', 'single', 'other'])\n",
        "dfd['age_cat'] = pd.cut(dfd['age'], range(0, 100, 10), right=False)\n"
      ],
      "execution_count": 0,
      "outputs": []
    },
    {
      "metadata": {
        "id": "gr4mjPfac2ta",
        "colab_type": "code",
        "outputId": "80b1d477-ca1e-4e00-9961-37249a2a4103",
        "colab": {
          "base_uri": "https://localhost:8080/",
          "height": 386
        }
      },
      "cell_type": "code",
      "source": [
        "fig, ax = plt.subplots(1,3)\n",
        "fig.set_size_inches(20,5)\n",
        "fig.suptitle('Defaulting by absolute numbers, for various demographics')\n",
        "\n",
        "d = dfd.groupby(['target', 'sex']).size()\n",
        "p = d.unstack(level=1).plot(kind='bar', ax=ax[0])\n",
        "\n",
        "d = dfd.groupby(['target', 'marriage']).size()\n",
        "p = d.unstack(level=1).plot(kind='bar', ax=ax[1])\n",
        "\n",
        "d = dfd.groupby(['target', 'age_cat']).size()\n",
        "p = d.unstack(level=1).plot(kind='bar', ax=ax[2])"
      ],
      "execution_count": 0,
      "outputs": [
        {
          "output_type": "display_data",
          "data": {
            "image/png": "[encoded data removed]",
            "text/plain": [
              "<Figure size 1440x360 with 3 Axes>"
            ]
          },
          "metadata": {
            "tags": []
          }
        }
      ]
    },
    {
      "metadata": {
        "id": "94CbbNTEc2tf",
        "colab_type": "code",
        "outputId": "66660b54-6abc-45e5-80b1-ffe08dc36e6a",
        "colab": {
          "base_uri": "https://localhost:8080/",
          "height": 386
        }
      },
      "cell_type": "code",
      "source": [
        "fig, ax = plt.subplots(1,3)\n",
        "fig.set_size_inches(20,5)\n",
        "fig.suptitle('Defaulting by relative numbers given each class, for various demographics')\n",
        "\n",
        "d = dfd.groupby(['target', 'sex']).size().unstack(level=1)\n",
        "d = d / d.sum()\n",
        "p = d.plot(kind='bar', ax=ax[0])\n",
        "\n",
        "d = dfd.groupby(['target', 'marriage']).size().unstack(level=1)\n",
        "d = d / d.sum()\n",
        "p = d.plot(kind='bar', ax=ax[1])\n",
        "\n",
        "d = dfd.groupby(['target', 'age_cat']).size().unstack(level=1)\n",
        "d = d / d.sum()\n",
        "p = d.plot(kind='bar', ax=ax[2])"
      ],
      "execution_count": 0,
      "outputs": [
        {
          "output_type": "display_data",
          "data": {
            "image/png": "[encoded data removed]",
            "text/plain": [
              "<Figure size 1440x360 with 3 Axes>"
            ]
          },
          "metadata": {
            "tags": []
          }
        }
      ]
    },
    {
      "metadata": {
        "id": "IK_7d8jQc2tj",
        "colab_type": "text"
      },
      "cell_type": "markdown",
      "source": [
        "#### Visualization: Confusion matrices and AUC curves"
      ]
    },
    {
      "metadata": {
        "id": "Z_Eb6minc2tk",
        "colab_type": "code",
        "colab": {}
      },
      "cell_type": "code",
      "source": [
        "def plot_cm(ax, y_true, y_pred, classes, title, th=0.5, cmap=plt.cm.Blues):\n",
        "    y_pred_labels = (y_pred>th).astype(int)\n",
        "    \n",
        "    cm = confusion_matrix(y_true, y_pred_labels)\n",
        "    \n",
        "    im = ax.imshow(cm, interpolation='nearest', cmap=cmap)\n",
        "    ax.set_title(title)\n",
        "\n",
        "    tick_marks = np.arange(len(classes))\n",
        "    ax.set_xticks(tick_marks)\n",
        "    ax.set_yticks(tick_marks)\n",
        "    ax.set_xticklabels(classes)\n",
        "    ax.set_yticklabels(classes)\n",
        "\n",
        "    thresh = cm.max() / 2.\n",
        "    for i, j in itertools.product(range(cm.shape[0]), range(cm.shape[1])):\n",
        "        ax.text(j, i, cm[i, j],\n",
        "                 horizontalalignment=\"center\",\n",
        "                 color=\"white\" if cm[i, j] > thresh else \"black\")\n",
        "    ax.set_ylabel('True label')\n",
        "    ax.set_xlabel('Predicted label')\n",
        "\n",
        "def plot_auc(ax, y_train, y_train_pred, y_test, y_test_pred, th=0.5):\n",
        "\n",
        "    y_train_pred_labels = (y_train_pred>th).astype(int)\n",
        "    y_test_pred_labels  = (y_test_pred>th).astype(int)\n",
        "\n",
        "    fpr_train, tpr_train, _ = roc_curve(y_train,y_train_pred)\n",
        "    roc_auc_train = auc(fpr_train, tpr_train)\n",
        "    acc_train = accuracy_score(y_train, y_train_pred_labels)\n",
        "\n",
        "    fpr_test, tpr_test, _ = roc_curve(y_test,y_test_pred)\n",
        "    roc_auc_test = auc(fpr_test, tpr_test)\n",
        "    acc_test = accuracy_score(y_test, y_test_pred_labels)\n",
        "\n",
        "    ax.plot(fpr_train, tpr_train)\n",
        "    ax.plot(fpr_test, tpr_test)\n",
        "\n",
        "    ax.plot([0, 1], [0, 1], 'k--')\n",
        "\n",
        "    ax.set_xlim([0.0, 1.0])\n",
        "    ax.set_ylim([0.0, 1.05])\n",
        "    ax.set_xlabel('False Positive Rate')\n",
        "    ax.set_ylabel('True Positive Rate')\n",
        "    ax.set_title('ROC curve')\n",
        "    \n",
        "    train_text = 'train acc = {:.3f}, auc = {:.2f}'.format(acc_train, roc_auc_train)\n",
        "    test_text = 'test acc = {:.3f}, auc = {:.2f}'.format(acc_test, roc_auc_test)\n",
        "    ax.legend([train_text, test_text])\n"
      ],
      "execution_count": 0,
      "outputs": []
    },
    {
      "metadata": {
        "id": "9dFD02JYc2tm",
        "colab_type": "code",
        "colab": {}
      },
      "cell_type": "code",
      "source": [
        "x = df.iloc[:,0:23]\n",
        "y = df.iloc[:, 23]"
      ],
      "execution_count": 0,
      "outputs": []
    },
    {
      "metadata": {
        "id": "5yRSu4FNc2to",
        "colab_type": "code",
        "outputId": "41b2975d-14f2-400d-8c98-6c95136a6f8b",
        "colab": {
          "base_uri": "https://localhost:8080/",
          "height": 144
        }
      },
      "cell_type": "code",
      "source": [
        "X_train, X_test, y_train, y_test = train_test_split(x, y, test_size=0.3, random_state=42)\n",
        "scaler = StandardScaler()\n",
        "scaler.fit(X_train)\n",
        "\n",
        "X_train = scaler.transform(X_train)  \n",
        "X_test = scaler.transform(X_test) "
      ],
      "execution_count": 0,
      "outputs": [
        {
          "output_type": "stream",
          "text": [
            "/usr/local/lib/python3.6/dist-packages/sklearn/preprocessing/data.py:645: DataConversionWarning: Data with input dtype int64 were all converted to float64 by StandardScaler.\n",
            "  return self.partial_fit(X, y)\n",
            "/usr/local/lib/python3.6/dist-packages/ipykernel_launcher.py:5: DataConversionWarning: Data with input dtype int64 were all converted to float64 by StandardScaler.\n",
            "  \"\"\"\n",
            "/usr/local/lib/python3.6/dist-packages/ipykernel_launcher.py:6: DataConversionWarning: Data with input dtype int64 were all converted to float64 by StandardScaler.\n",
            "  \n"
          ],
          "name": "stderr"
        }
      ]
    },
    {
      "metadata": {
        "id": "4Aeemv7pc2ts",
        "colab_type": "text"
      },
      "cell_type": "markdown",
      "source": [
        "### Model"
      ]
    },
    {
      "metadata": {
        "id": "Gov3HeDgc2tt",
        "colab_type": "code",
        "outputId": "d42a0a44-979b-4645-fb47-0b7285d2249a",
        "colab": {
          "base_uri": "https://localhost:8080/",
          "height": 190
        }
      },
      "cell_type": "code",
      "source": [
        "mlp = MLPClassifier(hidden_layer_sizes=(60,50), max_iter=100,learning_rate_init=0.001)  \n",
        "mlp.fit(X_train, y_train.values.ravel())  "
      ],
      "execution_count": 0,
      "outputs": [
        {
          "output_type": "stream",
          "text": [
            "/usr/local/lib/python3.6/dist-packages/sklearn/neural_network/multilayer_perceptron.py:562: ConvergenceWarning: Stochastic Optimizer: Maximum iterations (100) reached and the optimization hasn't converged yet.\n",
            "  % self.max_iter, ConvergenceWarning)\n"
          ],
          "name": "stderr"
        },
        {
          "output_type": "execute_result",
          "data": {
            "text/plain": [
              "MLPClassifier(activation='relu', alpha=0.0001, batch_size='auto', beta_1=0.9,\n",
              "       beta_2=0.999, early_stopping=False, epsilon=1e-08,\n",
              "       hidden_layer_sizes=(60, 50), learning_rate='constant',\n",
              "       learning_rate_init=0.001, max_iter=100, momentum=0.9,\n",
              "       n_iter_no_change=10, nesterovs_momentum=True, power_t=0.5,\n",
              "       random_state=None, shuffle=True, solver='adam', tol=0.0001,\n",
              "       validation_fraction=0.1, verbose=False, warm_start=False)"
            ]
          },
          "metadata": {
            "tags": []
          },
          "execution_count": 79
        }
      ]
    },
    {
      "metadata": {
        "id": "xftWmVUtc2tz",
        "colab_type": "code",
        "colab": {}
      },
      "cell_type": "code",
      "source": [
        "predictions_on_train = mlp.predict(X_train) \n",
        "predictions_on_test = mlp.predict(X_test) "
      ],
      "execution_count": 0,
      "outputs": []
    },
    {
      "metadata": {
        "id": "5mvF691cc2t2",
        "colab_type": "code",
        "outputId": "07d13b44-25b0-4bb5-9011-eeb82a1069a6",
        "colab": {
          "base_uri": "https://localhost:8080/",
          "height": 255
        }
      },
      "cell_type": "code",
      "source": [
        "print(confusion_matrix(y_test,predictions_on_test))  \n",
        "print(classification_report(y_test,predictions_on_test)) \n",
        "cm = confusion_matrix(y_test,predictions_on_test)\n",
        "TN = cm[0][0]\n",
        "FP = cm[0][1]\n",
        "FN = cm[1][0]\n",
        "TP = cm[1][1]\n",
        "cost = 100*FN + 10*FP +1*TP\n",
        "print('cost = ',cost)\n",
        "hit_rate = TP/(TP+FP)\n",
        "print(\"hit rate = \",hit_rate)\n",
        "Detection_Rate = TP / (TP + FN)\n",
        "print('Detection Rate = ',Detection_Rate)"
      ],
      "execution_count": 0,
      "outputs": [
        {
          "output_type": "stream",
          "text": [
            "[[6571  469]\n",
            " [1309  651]]\n",
            "              precision    recall  f1-score   support\n",
            "\n",
            "           0       0.83      0.93      0.88      7040\n",
            "           1       0.58      0.33      0.42      1960\n",
            "\n",
            "   micro avg       0.80      0.80      0.80      9000\n",
            "   macro avg       0.71      0.63      0.65      9000\n",
            "weighted avg       0.78      0.80      0.78      9000\n",
            "\n",
            "cost =  136241\n",
            "hit rate =  0.58125\n",
            "Detection Rate =  0.33214285714285713\n"
          ],
          "name": "stdout"
        }
      ]
    },
    {
      "metadata": {
        "id": "QWYbOyc8c2t7",
        "colab_type": "code",
        "outputId": "ec8be569-8759-40b0-8e0b-4f265cecf4d1",
        "colab": {
          "base_uri": "https://localhost:8080/",
          "height": 350
        }
      },
      "cell_type": "code",
      "source": [
        "fig,ax = plt.subplots(1,3)\n",
        "fig.set_size_inches(15,5)\n",
        "plot_cm(ax[0],  y_train, predictions_on_train, [0,1], 'Confusion matrix (TRAIN)')\n",
        "plot_cm(ax[1],  y_test, predictions_on_test,   [0,1], 'Confusion matrix (TEST)')\n",
        "plot_auc(ax[2], y_train, predictions_on_train, y_test, predictions_on_test)\n",
        "    "
      ],
      "execution_count": 0,
      "outputs": [
        {
          "output_type": "display_data",
          "data": {
            "image/png": "[encoded data removed]",
            "text/plain": [
              "<Figure size 1080x360 with 3 Axes>"
            ]
          },
          "metadata": {
            "tags": []
          }
        }
      ]
    },
    {
      "metadata": {
        "id": "WTx_irMoc2t_",
        "colab_type": "code",
        "colab": {}
      },
      "cell_type": "code",
      "source": [
        ""
      ],
      "execution_count": 0,
      "outputs": []
    },
    {
      "metadata": {
        "id": "nZWRs0Hgc2uB",
        "colab_type": "text"
      },
      "cell_type": "markdown",
      "source": [
        "### MetaCost"
      ]
    },
    {
      "metadata": {
        "id": "PeB-Po1ic2uB",
        "colab_type": "code",
        "outputId": "073982cb-bcbe-45b6-a2b6-9ba8b75607ec",
        "colab": {
          "base_uri": "https://localhost:8080/",
          "height": 34
        }
      },
      "cell_type": "code",
      "source": [
        "x = df.iloc[:,0:23]\n",
        "y = df.iloc[:, 23]"
      ],
      "execution_count": 0,
      "outputs": [
        {
          "output_type": "execute_result",
          "data": {
            "text/plain": [
              "(30000, 22)"
            ]
          },
          "metadata": {
            "tags": []
          },
          "execution_count": 96
        }
      ]
    },
    {
      "metadata": {
        "id": "2iaSa5xyc2uD",
        "colab_type": "code",
        "colab": {}
      },
      "cell_type": "code",
      "source": [
        "def full_resamples(X, Y, m,n):\n",
        "    \n",
        "    s = [None] * m\n",
        "    for i in range(m):\n",
        "        r = np.random.randint(0, len(Y), n)\n",
        "        s[i] = (X[r], Y[r])\n",
        "    return s  "
      ],
      "execution_count": 0,
      "outputs": []
    },
    {
      "metadata": {
        "id": "SxqIA5i4c2uF",
        "colab_type": "code",
        "outputId": "ffeef024-8bc4-4c1e-8271-d4d6626ca991",
        "colab": {
          "base_uri": "https://localhost:8080/",
          "height": 144
        }
      },
      "cell_type": "code",
      "source": [
        "X_train, X_test, y_train, y_test = train_test_split(x, y, test_size=0.3, random_state=42)\n",
        "scaler = StandardScaler()\n",
        "scaler.fit(X_train)\n",
        "\n",
        "X_train = scaler.transform(X_train)  \n",
        "X_test = scaler.transform(X_test) "
      ],
      "execution_count": 0,
      "outputs": [
        {
          "output_type": "stream",
          "text": [
            "/usr/local/lib/python3.6/dist-packages/sklearn/preprocessing/data.py:645: DataConversionWarning: Data with input dtype int64 were all converted to float64 by StandardScaler.\n",
            "  return self.partial_fit(X, y)\n",
            "/usr/local/lib/python3.6/dist-packages/ipykernel_launcher.py:5: DataConversionWarning: Data with input dtype int64 were all converted to float64 by StandardScaler.\n",
            "  \"\"\"\n",
            "/usr/local/lib/python3.6/dist-packages/ipykernel_launcher.py:6: DataConversionWarning: Data with input dtype int64 were all converted to float64 by StandardScaler.\n",
            "  \n"
          ],
          "name": "stderr"
        }
      ]
    },
    {
      "metadata": {
        "id": "HocXYmqhc2uK",
        "colab_type": "code",
        "outputId": "34f74bd0-673c-4960-83ec-adf2fab6b69b",
        "colab": {
          "base_uri": "https://localhost:8080/",
          "height": 688
        }
      },
      "cell_type": "code",
      "source": [
        "c=np.array([[0,1],[2,-3]]) #recall 73% precision 36%\n",
        "# c=np.array([[0,2],[6,-3]]) #recall 67% precision 39%\n",
        "MLP = MLPClassifier(hidden_layer_sizes=(60,50), max_iter=100,learning_rate_init=0.001,random_state=0) \n",
        "m=10\n",
        "y=y_train\n",
        "x=X_train\n",
        "M = [None] * m\n",
        "y = np.array(y, copy=True)\n",
        "p=True\n",
        "# Step 1. Train everything\n",
        "for i, (Xt, yt) in enumerate(full_resamples(x, y, m,int(len(y_train)))):\n",
        "    modelc=clone(MLP)\n",
        "    M[i] = modelc.fit(Xt, yt)\n",
        "\n",
        "# Step 2. Per observation, action (i.e. relabel)\n",
        "for i in range(len(x)): \n",
        "    if p:\n",
        "        Pj = [m.predict_proba(x[[i]]) for m in M]\n",
        "    else:\n",
        "        Pj = [(1, 0) if m.predict(x[[i]]) == 0 else (0, 1) for m in M]   \n",
        "    P = np.mean(Pj, 0)\n",
        "    j = np.argmin(np.matmul(P,c))\n",
        "    y[i] = j"
      ],
      "execution_count": 0,
      "outputs": [
        {
          "output_type": "stream",
          "text": [
            "/usr/local/lib/python3.6/dist-packages/sklearn/neural_network/multilayer_perceptron.py:562: ConvergenceWarning: Stochastic Optimizer: Maximum iterations (100) reached and the optimization hasn't converged yet.\n",
            "  % self.max_iter, ConvergenceWarning)\n",
            "/usr/local/lib/python3.6/dist-packages/sklearn/neural_network/multilayer_perceptron.py:562: ConvergenceWarning: Stochastic Optimizer: Maximum iterations (100) reached and the optimization hasn't converged yet.\n",
            "  % self.max_iter, ConvergenceWarning)\n",
            "/usr/local/lib/python3.6/dist-packages/sklearn/neural_network/multilayer_perceptron.py:562: ConvergenceWarning: Stochastic Optimizer: Maximum iterations (100) reached and the optimization hasn't converged yet.\n",
            "  % self.max_iter, ConvergenceWarning)\n",
            "/usr/local/lib/python3.6/dist-packages/sklearn/neural_network/multilayer_perceptron.py:562: ConvergenceWarning: Stochastic Optimizer: Maximum iterations (100) reached and the optimization hasn't converged yet.\n",
            "  % self.max_iter, ConvergenceWarning)\n",
            "/usr/local/lib/python3.6/dist-packages/sklearn/neural_network/multilayer_perceptron.py:562: ConvergenceWarning: Stochastic Optimizer: Maximum iterations (100) reached and the optimization hasn't converged yet.\n",
            "  % self.max_iter, ConvergenceWarning)\n",
            "/usr/local/lib/python3.6/dist-packages/sklearn/neural_network/multilayer_perceptron.py:562: ConvergenceWarning: Stochastic Optimizer: Maximum iterations (100) reached and the optimization hasn't converged yet.\n",
            "  % self.max_iter, ConvergenceWarning)\n",
            "/usr/local/lib/python3.6/dist-packages/sklearn/neural_network/multilayer_perceptron.py:562: ConvergenceWarning: Stochastic Optimizer: Maximum iterations (100) reached and the optimization hasn't converged yet.\n",
            "  % self.max_iter, ConvergenceWarning)\n",
            "/usr/local/lib/python3.6/dist-packages/sklearn/neural_network/multilayer_perceptron.py:562: ConvergenceWarning: Stochastic Optimizer: Maximum iterations (100) reached and the optimization hasn't converged yet.\n",
            "  % self.max_iter, ConvergenceWarning)\n",
            "/usr/local/lib/python3.6/dist-packages/sklearn/neural_network/multilayer_perceptron.py:562: ConvergenceWarning: Stochastic Optimizer: Maximum iterations (100) reached and the optimization hasn't converged yet.\n",
            "  % self.max_iter, ConvergenceWarning)\n",
            "/usr/local/lib/python3.6/dist-packages/sklearn/neural_network/multilayer_perceptron.py:562: ConvergenceWarning: Stochastic Optimizer: Maximum iterations (100) reached and the optimization hasn't converged yet.\n",
            "  % self.max_iter, ConvergenceWarning)\n",
            "/usr/local/lib/python3.6/dist-packages/sklearn/neural_network/multilayer_perceptron.py:562: ConvergenceWarning: Stochastic Optimizer: Maximum iterations (100) reached and the optimization hasn't converged yet.\n",
            "  % self.max_iter, ConvergenceWarning)\n",
            "/usr/local/lib/python3.6/dist-packages/sklearn/neural_network/multilayer_perceptron.py:562: ConvergenceWarning: Stochastic Optimizer: Maximum iterations (100) reached and the optimization hasn't converged yet.\n",
            "  % self.max_iter, ConvergenceWarning)\n",
            "/usr/local/lib/python3.6/dist-packages/sklearn/neural_network/multilayer_perceptron.py:562: ConvergenceWarning: Stochastic Optimizer: Maximum iterations (100) reached and the optimization hasn't converged yet.\n",
            "  % self.max_iter, ConvergenceWarning)\n",
            "/usr/local/lib/python3.6/dist-packages/sklearn/neural_network/multilayer_perceptron.py:562: ConvergenceWarning: Stochastic Optimizer: Maximum iterations (100) reached and the optimization hasn't converged yet.\n",
            "  % self.max_iter, ConvergenceWarning)\n",
            "/usr/local/lib/python3.6/dist-packages/sklearn/neural_network/multilayer_perceptron.py:562: ConvergenceWarning: Stochastic Optimizer: Maximum iterations (100) reached and the optimization hasn't converged yet.\n",
            "  % self.max_iter, ConvergenceWarning)\n",
            "/usr/local/lib/python3.6/dist-packages/sklearn/neural_network/multilayer_perceptron.py:562: ConvergenceWarning: Stochastic Optimizer: Maximum iterations (100) reached and the optimization hasn't converged yet.\n",
            "  % self.max_iter, ConvergenceWarning)\n",
            "/usr/local/lib/python3.6/dist-packages/sklearn/neural_network/multilayer_perceptron.py:562: ConvergenceWarning: Stochastic Optimizer: Maximum iterations (100) reached and the optimization hasn't converged yet.\n",
            "  % self.max_iter, ConvergenceWarning)\n",
            "/usr/local/lib/python3.6/dist-packages/sklearn/neural_network/multilayer_perceptron.py:562: ConvergenceWarning: Stochastic Optimizer: Maximum iterations (100) reached and the optimization hasn't converged yet.\n",
            "  % self.max_iter, ConvergenceWarning)\n",
            "/usr/local/lib/python3.6/dist-packages/sklearn/neural_network/multilayer_perceptron.py:562: ConvergenceWarning: Stochastic Optimizer: Maximum iterations (100) reached and the optimization hasn't converged yet.\n",
            "  % self.max_iter, ConvergenceWarning)\n"
          ],
          "name": "stderr"
        }
      ]
    },
    {
      "metadata": {
        "id": "MhAipLWsc2uM",
        "colab_type": "code",
        "outputId": "22044dd8-2c3d-4f83-846f-65f87db70636",
        "colab": {
          "base_uri": "https://localhost:8080/",
          "height": 34
        }
      },
      "cell_type": "code",
      "source": [
        "y=pd.DataFrame({\"label\":y})\n",
        "y['label'].unique()"
      ],
      "execution_count": 0,
      "outputs": [
        {
          "output_type": "execute_result",
          "data": {
            "text/plain": [
              "array([1, 0])"
            ]
          },
          "metadata": {
            "tags": []
          },
          "execution_count": 60
        },
        {
          "output_type": "execute_result",
          "data": {
            "text/plain": [
              "array([1, 0])"
            ]
          },
          "metadata": {
            "tags": []
          },
          "execution_count": 87
        }
      ]
    },
    {
      "metadata": {
        "id": "rYKOdwD1c2uO",
        "colab_type": "code",
        "outputId": "18010a64-25d1-433f-b69e-6c05280bab7c",
        "colab": {
          "base_uri": "https://localhost:8080/",
          "height": 326
        }
      },
      "cell_type": "code",
      "source": [
        "MLP.fit(X_train,y.values.ravel())"
      ],
      "execution_count": 0,
      "outputs": [
        {
          "output_type": "stream",
          "text": [
            "/usr/local/lib/python3.6/dist-packages/sklearn/neural_network/multilayer_perceptron.py:562: ConvergenceWarning: Stochastic Optimizer: Maximum iterations (100) reached and the optimization hasn't converged yet.\n",
            "  % self.max_iter, ConvergenceWarning)\n"
          ],
          "name": "stderr"
        },
        {
          "output_type": "execute_result",
          "data": {
            "text/plain": [
              "MLPClassifier(activation='relu', alpha=0.0001, batch_size='auto', beta_1=0.9,\n",
              "       beta_2=0.999, early_stopping=False, epsilon=1e-08,\n",
              "       hidden_layer_sizes=(60, 50), learning_rate='constant',\n",
              "       learning_rate_init=0.001, max_iter=100, momentum=0.9,\n",
              "       n_iter_no_change=10, nesterovs_momentum=True, power_t=0.5,\n",
              "       random_state=0, shuffle=True, solver='adam', tol=0.0001,\n",
              "       validation_fraction=0.1, verbose=False, warm_start=False)"
            ]
          },
          "metadata": {
            "tags": []
          },
          "execution_count": 61
        },
        {
          "output_type": "stream",
          "text": [
            "/usr/local/lib/python3.6/dist-packages/sklearn/neural_network/multilayer_perceptron.py:562: ConvergenceWarning: Stochastic Optimizer: Maximum iterations (100) reached and the optimization hasn't converged yet.\n",
            "  % self.max_iter, ConvergenceWarning)\n"
          ],
          "name": "stderr"
        },
        {
          "output_type": "execute_result",
          "data": {
            "text/plain": [
              "MLPClassifier(activation='relu', alpha=0.0001, batch_size='auto', beta_1=0.9,\n",
              "       beta_2=0.999, early_stopping=False, epsilon=1e-08,\n",
              "       hidden_layer_sizes=(60, 50), learning_rate='constant',\n",
              "       learning_rate_init=0.001, max_iter=100, momentum=0.9,\n",
              "       n_iter_no_change=10, nesterovs_momentum=True, power_t=0.5,\n",
              "       random_state=0, shuffle=True, solver='adam', tol=0.0001,\n",
              "       validation_fraction=0.1, verbose=False, warm_start=False)"
            ]
          },
          "metadata": {
            "tags": []
          },
          "execution_count": 88
        }
      ]
    },
    {
      "metadata": {
        "id": "3zdfDc2hc2uR",
        "colab_type": "code",
        "colab": {}
      },
      "cell_type": "code",
      "source": [
        "predictions_on_train = MLP.predict(X_train) \n",
        "predictions_on_test = MLP.predict(X_test) "
      ],
      "execution_count": 0,
      "outputs": []
    },
    {
      "metadata": {
        "id": "f7MlrE-Hc2uT",
        "colab_type": "code",
        "outputId": "91ec8439-e0dc-4a1f-d3da-d3638959dfc0",
        "colab": {
          "base_uri": "https://localhost:8080/",
          "height": 493
        }
      },
      "cell_type": "code",
      "source": [
        "print(confusion_matrix(y_test,predictions_on_test))  \n",
        "print(classification_report(y_test,predictions_on_test)) \n",
        "cm = confusion_matrix(y_test,predictions_on_test)\n",
        "TN = cm[0][0]\n",
        "FP = cm[0][1]\n",
        "FN = cm[1][0]\n",
        "TP = cm[1][1]\n",
        "cost = 100*FN + 10*FP +1*TP\n",
        "print('cost = ',cost)\n",
        "hit_rate = TP/(TP+FP)\n",
        "print(\"Precision = \",hit_rate)\n",
        "Detection_Rate = TP / (TP + FN)\n",
        "print('Recall = ',Detection_Rate)"
      ],
      "execution_count": 0,
      "outputs": [
        {
          "output_type": "stream",
          "text": [
            "[[4440 2600]\n",
            " [ 537 1423]]\n",
            "              precision    recall  f1-score   support\n",
            "\n",
            "           0       0.89      0.63      0.74      7040\n",
            "           1       0.35      0.73      0.48      1960\n",
            "\n",
            "   micro avg       0.65      0.65      0.65      9000\n",
            "   macro avg       0.62      0.68      0.61      9000\n",
            "weighted avg       0.77      0.65      0.68      9000\n",
            "\n",
            "cost =  81123\n",
            "Precision =  0.35371613223962217\n",
            "Recall =  0.7260204081632653\n",
            "[[4425 2615]\n",
            " [ 523 1437]]\n",
            "              precision    recall  f1-score   support\n",
            "\n",
            "           0       0.89      0.63      0.74      7040\n",
            "           1       0.35      0.73      0.48      1960\n",
            "\n",
            "   micro avg       0.65      0.65      0.65      9000\n",
            "   macro avg       0.62      0.68      0.61      9000\n",
            "weighted avg       0.78      0.65      0.68      9000\n",
            "\n",
            "cost =  79887\n",
            "Precision =  0.354639684106614\n",
            "Recall =  0.7331632653061224\n"
          ],
          "name": "stdout"
        }
      ]
    },
    {
      "metadata": {
        "id": "oV99gHudc2uV",
        "colab_type": "code",
        "outputId": "937dc886-9fa8-4470-e3a1-8b7ae06a7a6b",
        "colab": {
          "base_uri": "https://localhost:8080/",
          "height": 683
        }
      },
      "cell_type": "code",
      "source": [
        "fig,ax = plt.subplots(1,3)\n",
        "fig.set_size_inches(15,5)\n",
        "plot_cm(ax[0],  y_train, predictions_on_train, [0,1], 'Confusion matrix (TRAIN)')\n",
        "plot_cm(ax[1],  y_test, predictions_on_test,   [0,1], 'Confusion matrix (TEST)')\n",
        "plot_auc(ax[2], y_train, predictions_on_train, y_test, predictions_on_test)\n",
        "    "
      ],
      "execution_count": 0,
      "outputs": [
        {
          "output_type": "display_data",
          "data": {
            "image/png": "[encoded data removed]",
            "text/plain": [
              "<Figure size 1080x360 with 3 Axes>"
            ]
          },
          "metadata": {
            "tags": []
          }
        },
        {
          "output_type": "display_data",
          "data": {
            "image/png": "[encoded data removed]",
            "text/plain": [
              "<Figure size 1080x360 with 3 Axes>"
            ]
          },
          "metadata": {
            "tags": []
          }
        }
      ]
    }
  ]
}